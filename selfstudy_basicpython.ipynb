{
  "nbformat": 4,
  "nbformat_minor": 0,
  "metadata": {
    "colab": {
      "provenance": []
    },
    "kernelspec": {
      "name": "python3",
      "display_name": "Python 3"
    },
    "language_info": {
      "name": "python"
    }
  },
  "cells": [
    {
      "cell_type": "code",
      "execution_count": null,
      "metadata": {
        "colab": {
          "base_uri": "https://localhost:8080/"
        },
        "id": "kyRb184yEWaN",
        "outputId": "cff4b632-4467-432d-a7c6-a30211fbbaca"
      },
      "outputs": [
        {
          "name": "stdout",
          "output_type": "stream",
          "text": [
            "Hello world\n"
          ]
        }
      ],
      "source": [
        "print(\"Hello world\")"
      ]
    },
    {
      "cell_type": "code",
      "execution_count": null,
      "metadata": {
        "colab": {
          "base_uri": "https://localhost:8080/"
        },
        "id": "lfq7LIHBbU8E",
        "outputId": "b1a2b60c-a9e6-4682-bac9-f1685fbae689"
      },
      "outputs": [
        {
          "output_type": "stream",
          "name": "stdout",
          "text": [
            "maximum value 8\n",
            "minimum value: 1\n"
          ]
        }
      ],
      "source": [
        "#smallest and largest numbers in list\n",
        "number=[2,6,8,7,4,6,1,2]\n",
        "max_value=max(number)\n",
        "print(\"maximum value\",max_value)\n",
        "min_value=min(number)\n",
        "print(\"minimum value:\",min_value)\n"
      ]
    },
    {
      "cell_type": "code",
      "source": [
        "#sum of all the items in dictionary\n",
        "my_dict={10,20,30}\n",
        "print(sum(my_dict))"
      ],
      "metadata": {
        "colab": {
          "base_uri": "https://localhost:8080/"
        },
        "id": "xsATOPrScrwP",
        "outputId": "ff514987-85cb-4e5c-dd42-ea6650d2e143"
      },
      "execution_count": null,
      "outputs": [
        {
          "output_type": "stream",
          "name": "stdout",
          "text": [
            "60\n"
          ]
        }
      ]
    },
    {
      "cell_type": "markdown",
      "metadata": {
        "id": "Eji9oVeSIWaK"
      },
      "source": [
        "### *#code for Addition of two number with output as the sum of two numbers*"
      ]
    },
    {
      "cell_type": "code",
      "execution_count": null,
      "metadata": {
        "colab": {
          "base_uri": "https://localhost:8080/"
        },
        "id": "xnv93wAKQa_R",
        "outputId": "590e1fb0-f826-4d44-feda-e146709f53ba"
      },
      "outputs": [
        {
          "name": "stdout",
          "output_type": "stream",
          "text": [
            "Enter the first number=8\n",
            "Enter the second number=9\n",
            "9\n",
            "The addition of  9 and 9 is 9\n"
          ]
        }
      ],
      "source": [
        "a=int(input(\"Enter the first number=\"),);\n",
        "b=int(input(\"Enter the second number=\"),);\n",
        "i=a=b\n",
        "print(i)\n",
        "print(\"The addition of \",a,\"and\",b,\"is\",i)"
      ]
    },
    {
      "cell_type": "markdown",
      "metadata": {
        "id": "VdqV8IDzMDHr"
      },
      "source": [
        "*#code for substraction with the output as the substraction of two number is*\n",
        "\n"
      ]
    },
    {
      "cell_type": "code",
      "execution_count": null,
      "metadata": {
        "colab": {
          "base_uri": "https://localhost:8080/"
        },
        "id": "K9QVqSvjQdZM",
        "outputId": "dad043a9-b2b8-4696-c491-80b641cf7314"
      },
      "outputs": [
        {
          "name": "stdout",
          "output_type": "stream",
          "text": [
            "Enter the first number=9\n",
            "Enter the second number=6\n",
            "3\n",
            "The substraction of  9 and 6 is 3\n"
          ]
        }
      ],
      "source": [
        "a=int(input(\"Enter the first number=\"),);\n",
        "b=int(input(\"Enter the second number=\"),);\n",
        "i=a-b\n",
        "print(i)\n",
        "print(\"The substraction of \",a,\"and\",b,\"is\",i)"
      ]
    },
    {
      "cell_type": "markdown",
      "metadata": {
        "id": "MIBRfwBsQjS3"
      },
      "source": [
        "*#code for Multiplication with the output as the multiplication of two number is*\n",
        "\n"
      ]
    },
    {
      "cell_type": "code",
      "execution_count": null,
      "metadata": {
        "colab": {
          "base_uri": "https://localhost:8080/"
        },
        "id": "D_BEJvY5Qze2",
        "outputId": "e1908723-98a4-4a8a-f374-af129499a9c9"
      },
      "outputs": [
        {
          "name": "stdout",
          "output_type": "stream",
          "text": [
            "Enter the first number=8\n",
            "Enter the second number=9\n",
            "72\n",
            "The multiplication of  8 and 9 is 72\n"
          ]
        }
      ],
      "source": [
        "a=int(input(\"Enter the first number=\"),);\n",
        "b=int(input(\"Enter the second number=\"),);\n",
        "i=a*b\n",
        "print(i)\n",
        "print(\"The multiplication of \",a,\"and\",b,\"is\",i)"
      ]
    },
    {
      "cell_type": "markdown",
      "metadata": {
        "id": "-m9WREvaQQpH"
      },
      "source": [
        "\n",
        "\n",
        "\n",
        "\n",
        "## **#code for Division with the output as the division of two number **\n"
      ]
    },
    {
      "cell_type": "code",
      "execution_count": null,
      "metadata": {
        "colab": {
          "base_uri": "https://localhost:8080/"
        },
        "id": "6HmFyz_cQ6dW",
        "outputId": "33d8c5f0-91c4-4913-9dc0-20feac23567c"
      },
      "outputs": [
        {
          "name": "stdout",
          "output_type": "stream",
          "text": [
            "Enter the first number=9\n",
            "Enter the second number=8\n",
            "1.125\n",
            "The Division of  9 and 8 is 1.125\n"
          ]
        }
      ],
      "source": [
        "a=int(input(\"Enter the first number=\"),);\n",
        "b=int(input(\"Enter the second number=\"),);\n",
        "i=a/b\n",
        "print(i)\n",
        "print(\"The Division of \",a,\"and\",b,\"is\",i)"
      ]
    },
    {
      "cell_type": "markdown",
      "metadata": {
        "id": "1UAfKeETSTsY"
      },
      "source": [
        "condtion if we dont give int **"
      ]
    },
    {
      "cell_type": "code",
      "execution_count": null,
      "metadata": {
        "colab": {
          "base_uri": "https://localhost:8080/"
        },
        "id": "ZmjGlgpmSjjY",
        "outputId": "51c3d04b-2a72-49b1-f216-1fb5c146d817"
      },
      "outputs": [
        {
          "name": "stdout",
          "output_type": "stream",
          "text": [
            "Enter the first number=7\n",
            "Enter the second number=5\n",
            "75\n",
            "The sum of 7 and 5 is 75\n"
          ]
        }
      ],
      "source": [
        "a=input(\"Enter the first number=\")\n",
        "b=input(\"Enter the second number=\")\n",
        "k=a+b\n",
        "print(k)\n",
        "print(\"The sum of\", a,\"and\", b,\"is\",k)"
      ]
    },
    {
      "cell_type": "markdown",
      "metadata": {
        "id": "bSBtK9py0MFU"
      },
      "source": [
        "**#code for if else **"
      ]
    },
    {
      "cell_type": "code",
      "execution_count": null,
      "metadata": {
        "colab": {
          "background_save": true,
          "base_uri": "https://localhost:8080/",
          "height": 130
        },
        "id": "NiTJT1m10130",
        "outputId": "903730d0-7e71-4cca-c9d7-35d0993e6057"
      },
      "outputs": [
        {
          "ename": "SyntaxError",
          "evalue": "ignored",
          "output_type": "error",
          "traceback": [
            "\u001b[0;36m  File \u001b[0;32m\"<ipython-input-1-e822c6b5e7ad>\"\u001b[0;36m, line \u001b[0;32m6\u001b[0m\n\u001b[0;31m    else(temp=35):\u001b[0m\n\u001b[0m        ^\u001b[0m\n\u001b[0;31mSyntaxError\u001b[0m\u001b[0;31m:\u001b[0m invalid syntax\n"
          ]
        }
      ],
      "source": [
        "temp=int(input(\"Enter the temp=\"),);\n",
        "if(temp>35):\n",
        "  print(\"it is a sunny day\")\n",
        "elif(temp<35):\n",
        "  print(\"it is a cool day\")\n",
        "else(temp=35):\n",
        "  print(\"it is a perfect day\")\n"
      ]
    },
    {
      "cell_type": "code",
      "execution_count": null,
      "metadata": {
        "id": "CK-K8F3aAD2Z"
      },
      "outputs": [],
      "source": []
    },
    {
      "cell_type": "code",
      "execution_count": null,
      "metadata": {
        "colab": {
          "base_uri": "https://localhost:8080/"
        },
        "id": "TF4S_CYUDl0o",
        "outputId": "9ee50159-c2ac-4268-a1b9-371457dc5cea"
      },
      "outputs": [
        {
          "name": "stdout",
          "output_type": "stream",
          "text": [
            "Enter the number=50\n",
            "The number is greater than 50\n"
          ]
        }
      ],
      "source": [
        "num = int(input(\"Enter the number=\"),);\n",
        "if(num >= 50):\n",
        "   print(\"The number is greater than 50\")\n"
      ]
    },
    {
      "cell_type": "code",
      "source": [
        "#'' REPRESENT THE STRING\n",
        "#STRING MEANS text character number if all these are written in \"\" then it is text format\n",
        "#case sensestive launguage\n",
        "\n",
        "print(\"Hello world\")"
      ],
      "metadata": {
        "colab": {
          "base_uri": "https://localhost:8080/"
        },
        "id": "kR_APMkDC4FP",
        "outputId": "c5973ac6-d0e5-49bf-bc9d-0c4bc9db4568"
      },
      "execution_count": null,
      "outputs": [
        {
          "output_type": "stream",
          "name": "stdout",
          "text": [
            "Hello world\n"
          ]
        }
      ]
    },
    {
      "cell_type": "code",
      "source": [
        "#what are the values in the column are known as\n",
        "import pandas as pd\n",
        "data={\"name\":[\"Hridill\",\"Prateek\",\"Aniket\",\"Prathamesh\",\"Prasanna\"],\n",
        "      \"percentile\":[90,91,85,96,95],\n",
        "      \"Branch\":[\"Mechanical\",\"Entc\",\"Computer science\",\"civil\",\"Electronics\"],\n",
        "      \"sex\":[\"M\",\"M\",\"M\",\"M\",\"M\",],}\n",
        "df=pd.DataFrame(data)\n",
        "df=pd.DataFrame(data,columns=[\"name\",\"Branch\",\"sex\"])\n",
        "df\n"
      ],
      "metadata": {
        "id": "x5BfXv0QAe5d",
        "colab": {
          "base_uri": "https://localhost:8080/",
          "height": 206
        },
        "outputId": "f79e1a76-ad56-40be-ff98-e5c409406fe7"
      },
      "execution_count": null,
      "outputs": [
        {
          "output_type": "execute_result",
          "data": {
            "text/plain": [
              "         name            Branch sex\n",
              "0     Hridill        Mechanical   M\n",
              "1     Prateek              Entc   M\n",
              "2      Aniket  Computer science   M\n",
              "3  Prathamesh             civil   M\n",
              "4    Prasanna       Electronics   M"
            ],
            "text/html": [
              "\n",
              "  <div id=\"df-6f719df5-decb-4095-b4fd-e950f26ce6fb\">\n",
              "    <div class=\"colab-df-container\">\n",
              "      <div>\n",
              "<style scoped>\n",
              "    .dataframe tbody tr th:only-of-type {\n",
              "        vertical-align: middle;\n",
              "    }\n",
              "\n",
              "    .dataframe tbody tr th {\n",
              "        vertical-align: top;\n",
              "    }\n",
              "\n",
              "    .dataframe thead th {\n",
              "        text-align: right;\n",
              "    }\n",
              "</style>\n",
              "<table border=\"1\" class=\"dataframe\">\n",
              "  <thead>\n",
              "    <tr style=\"text-align: right;\">\n",
              "      <th></th>\n",
              "      <th>name</th>\n",
              "      <th>Branch</th>\n",
              "      <th>sex</th>\n",
              "    </tr>\n",
              "  </thead>\n",
              "  <tbody>\n",
              "    <tr>\n",
              "      <th>0</th>\n",
              "      <td>Hridill</td>\n",
              "      <td>Mechanical</td>\n",
              "      <td>M</td>\n",
              "    </tr>\n",
              "    <tr>\n",
              "      <th>1</th>\n",
              "      <td>Prateek</td>\n",
              "      <td>Entc</td>\n",
              "      <td>M</td>\n",
              "    </tr>\n",
              "    <tr>\n",
              "      <th>2</th>\n",
              "      <td>Aniket</td>\n",
              "      <td>Computer science</td>\n",
              "      <td>M</td>\n",
              "    </tr>\n",
              "    <tr>\n",
              "      <th>3</th>\n",
              "      <td>Prathamesh</td>\n",
              "      <td>civil</td>\n",
              "      <td>M</td>\n",
              "    </tr>\n",
              "    <tr>\n",
              "      <th>4</th>\n",
              "      <td>Prasanna</td>\n",
              "      <td>Electronics</td>\n",
              "      <td>M</td>\n",
              "    </tr>\n",
              "  </tbody>\n",
              "</table>\n",
              "</div>\n",
              "      <button class=\"colab-df-convert\" onclick=\"convertToInteractive('df-6f719df5-decb-4095-b4fd-e950f26ce6fb')\"\n",
              "              title=\"Convert this dataframe to an interactive table.\"\n",
              "              style=\"display:none;\">\n",
              "        \n",
              "  <svg xmlns=\"http://www.w3.org/2000/svg\" height=\"24px\"viewBox=\"0 0 24 24\"\n",
              "       width=\"24px\">\n",
              "    <path d=\"M0 0h24v24H0V0z\" fill=\"none\"/>\n",
              "    <path d=\"M18.56 5.44l.94 2.06.94-2.06 2.06-.94-2.06-.94-.94-2.06-.94 2.06-2.06.94zm-11 1L8.5 8.5l.94-2.06 2.06-.94-2.06-.94L8.5 2.5l-.94 2.06-2.06.94zm10 10l.94 2.06.94-2.06 2.06-.94-2.06-.94-.94-2.06-.94 2.06-2.06.94z\"/><path d=\"M17.41 7.96l-1.37-1.37c-.4-.4-.92-.59-1.43-.59-.52 0-1.04.2-1.43.59L10.3 9.45l-7.72 7.72c-.78.78-.78 2.05 0 2.83L4 21.41c.39.39.9.59 1.41.59.51 0 1.02-.2 1.41-.59l7.78-7.78 2.81-2.81c.8-.78.8-2.07 0-2.86zM5.41 20L4 18.59l7.72-7.72 1.47 1.35L5.41 20z\"/>\n",
              "  </svg>\n",
              "      </button>\n",
              "      \n",
              "  <style>\n",
              "    .colab-df-container {\n",
              "      display:flex;\n",
              "      flex-wrap:wrap;\n",
              "      gap: 12px;\n",
              "    }\n",
              "\n",
              "    .colab-df-convert {\n",
              "      background-color: #E8F0FE;\n",
              "      border: none;\n",
              "      border-radius: 50%;\n",
              "      cursor: pointer;\n",
              "      display: none;\n",
              "      fill: #1967D2;\n",
              "      height: 32px;\n",
              "      padding: 0 0 0 0;\n",
              "      width: 32px;\n",
              "    }\n",
              "\n",
              "    .colab-df-convert:hover {\n",
              "      background-color: #E2EBFA;\n",
              "      box-shadow: 0px 1px 2px rgba(60, 64, 67, 0.3), 0px 1px 3px 1px rgba(60, 64, 67, 0.15);\n",
              "      fill: #174EA6;\n",
              "    }\n",
              "\n",
              "    [theme=dark] .colab-df-convert {\n",
              "      background-color: #3B4455;\n",
              "      fill: #D2E3FC;\n",
              "    }\n",
              "\n",
              "    [theme=dark] .colab-df-convert:hover {\n",
              "      background-color: #434B5C;\n",
              "      box-shadow: 0px 1px 3px 1px rgba(0, 0, 0, 0.15);\n",
              "      filter: drop-shadow(0px 1px 2px rgba(0, 0, 0, 0.3));\n",
              "      fill: #FFFFFF;\n",
              "    }\n",
              "  </style>\n",
              "\n",
              "      <script>\n",
              "        const buttonEl =\n",
              "          document.querySelector('#df-6f719df5-decb-4095-b4fd-e950f26ce6fb button.colab-df-convert');\n",
              "        buttonEl.style.display =\n",
              "          google.colab.kernel.accessAllowed ? 'block' : 'none';\n",
              "\n",
              "        async function convertToInteractive(key) {\n",
              "          const element = document.querySelector('#df-6f719df5-decb-4095-b4fd-e950f26ce6fb');\n",
              "          const dataTable =\n",
              "            await google.colab.kernel.invokeFunction('convertToInteractive',\n",
              "                                                     [key], {});\n",
              "          if (!dataTable) return;\n",
              "\n",
              "          const docLinkHtml = 'Like what you see? Visit the ' +\n",
              "            '<a target=\"_blank\" href=https://colab.research.google.com/notebooks/data_table.ipynb>data table notebook</a>'\n",
              "            + ' to learn more about interactive tables.';\n",
              "          element.innerHTML = '';\n",
              "          dataTable['output_type'] = 'display_data';\n",
              "          await google.colab.output.renderOutput(dataTable, element);\n",
              "          const docLink = document.createElement('div');\n",
              "          docLink.innerHTML = docLinkHtml;\n",
              "          element.appendChild(docLink);\n",
              "        }\n",
              "      </script>\n",
              "    </div>\n",
              "  </div>\n",
              "  "
            ]
          },
          "metadata": {},
          "execution_count": 9
        }
      ]
    },
    {
      "cell_type": "code",
      "source": [
        "#what are the values in the column are known as\n",
        "import pandas as pd\n",
        "data={\"name\":[\"Hridill\",\"Prateek\",\"Aniket\",\"Prathamesh\",\"Prasanna\"],\n",
        "      \"percentile\":[90,91,85,96,95],\n",
        "      \"Branch\":[\"Mechanical\",\"Entc\",\"Computer science\",\"civil\",\"Electronics\"],\n",
        "      \"sex\":[\"M\",\"M\",\"M\",\"M\",\"M\",],}\n",
        "df.head()"
      ],
      "metadata": {
        "colab": {
          "base_uri": "https://localhost:8080/",
          "height": 206
        },
        "id": "vmO56ZKrF10p",
        "outputId": "7ede634d-b365-4c39-f836-e4344555cabd"
      },
      "execution_count": null,
      "outputs": [
        {
          "output_type": "execute_result",
          "data": {
            "text/plain": [
              "         name            Branch sex\n",
              "0     Hridill        Mechanical   M\n",
              "1     Prateek              Entc   M\n",
              "2      Aniket  Computer science   M\n",
              "3  Prathamesh             civil   M\n",
              "4    Prasanna       Electronics   M"
            ],
            "text/html": [
              "\n",
              "  <div id=\"df-9da962c3-b081-4937-9ee3-4780015ee61c\">\n",
              "    <div class=\"colab-df-container\">\n",
              "      <div>\n",
              "<style scoped>\n",
              "    .dataframe tbody tr th:only-of-type {\n",
              "        vertical-align: middle;\n",
              "    }\n",
              "\n",
              "    .dataframe tbody tr th {\n",
              "        vertical-align: top;\n",
              "    }\n",
              "\n",
              "    .dataframe thead th {\n",
              "        text-align: right;\n",
              "    }\n",
              "</style>\n",
              "<table border=\"1\" class=\"dataframe\">\n",
              "  <thead>\n",
              "    <tr style=\"text-align: right;\">\n",
              "      <th></th>\n",
              "      <th>name</th>\n",
              "      <th>Branch</th>\n",
              "      <th>sex</th>\n",
              "    </tr>\n",
              "  </thead>\n",
              "  <tbody>\n",
              "    <tr>\n",
              "      <th>0</th>\n",
              "      <td>Hridill</td>\n",
              "      <td>Mechanical</td>\n",
              "      <td>M</td>\n",
              "    </tr>\n",
              "    <tr>\n",
              "      <th>1</th>\n",
              "      <td>Prateek</td>\n",
              "      <td>Entc</td>\n",
              "      <td>M</td>\n",
              "    </tr>\n",
              "    <tr>\n",
              "      <th>2</th>\n",
              "      <td>Aniket</td>\n",
              "      <td>Computer science</td>\n",
              "      <td>M</td>\n",
              "    </tr>\n",
              "    <tr>\n",
              "      <th>3</th>\n",
              "      <td>Prathamesh</td>\n",
              "      <td>civil</td>\n",
              "      <td>M</td>\n",
              "    </tr>\n",
              "    <tr>\n",
              "      <th>4</th>\n",
              "      <td>Prasanna</td>\n",
              "      <td>Electronics</td>\n",
              "      <td>M</td>\n",
              "    </tr>\n",
              "  </tbody>\n",
              "</table>\n",
              "</div>\n",
              "      <button class=\"colab-df-convert\" onclick=\"convertToInteractive('df-9da962c3-b081-4937-9ee3-4780015ee61c')\"\n",
              "              title=\"Convert this dataframe to an interactive table.\"\n",
              "              style=\"display:none;\">\n",
              "        \n",
              "  <svg xmlns=\"http://www.w3.org/2000/svg\" height=\"24px\"viewBox=\"0 0 24 24\"\n",
              "       width=\"24px\">\n",
              "    <path d=\"M0 0h24v24H0V0z\" fill=\"none\"/>\n",
              "    <path d=\"M18.56 5.44l.94 2.06.94-2.06 2.06-.94-2.06-.94-.94-2.06-.94 2.06-2.06.94zm-11 1L8.5 8.5l.94-2.06 2.06-.94-2.06-.94L8.5 2.5l-.94 2.06-2.06.94zm10 10l.94 2.06.94-2.06 2.06-.94-2.06-.94-.94-2.06-.94 2.06-2.06.94z\"/><path d=\"M17.41 7.96l-1.37-1.37c-.4-.4-.92-.59-1.43-.59-.52 0-1.04.2-1.43.59L10.3 9.45l-7.72 7.72c-.78.78-.78 2.05 0 2.83L4 21.41c.39.39.9.59 1.41.59.51 0 1.02-.2 1.41-.59l7.78-7.78 2.81-2.81c.8-.78.8-2.07 0-2.86zM5.41 20L4 18.59l7.72-7.72 1.47 1.35L5.41 20z\"/>\n",
              "  </svg>\n",
              "      </button>\n",
              "      \n",
              "  <style>\n",
              "    .colab-df-container {\n",
              "      display:flex;\n",
              "      flex-wrap:wrap;\n",
              "      gap: 12px;\n",
              "    }\n",
              "\n",
              "    .colab-df-convert {\n",
              "      background-color: #E8F0FE;\n",
              "      border: none;\n",
              "      border-radius: 50%;\n",
              "      cursor: pointer;\n",
              "      display: none;\n",
              "      fill: #1967D2;\n",
              "      height: 32px;\n",
              "      padding: 0 0 0 0;\n",
              "      width: 32px;\n",
              "    }\n",
              "\n",
              "    .colab-df-convert:hover {\n",
              "      background-color: #E2EBFA;\n",
              "      box-shadow: 0px 1px 2px rgba(60, 64, 67, 0.3), 0px 1px 3px 1px rgba(60, 64, 67, 0.15);\n",
              "      fill: #174EA6;\n",
              "    }\n",
              "\n",
              "    [theme=dark] .colab-df-convert {\n",
              "      background-color: #3B4455;\n",
              "      fill: #D2E3FC;\n",
              "    }\n",
              "\n",
              "    [theme=dark] .colab-df-convert:hover {\n",
              "      background-color: #434B5C;\n",
              "      box-shadow: 0px 1px 3px 1px rgba(0, 0, 0, 0.15);\n",
              "      filter: drop-shadow(0px 1px 2px rgba(0, 0, 0, 0.3));\n",
              "      fill: #FFFFFF;\n",
              "    }\n",
              "  </style>\n",
              "\n",
              "      <script>\n",
              "        const buttonEl =\n",
              "          document.querySelector('#df-9da962c3-b081-4937-9ee3-4780015ee61c button.colab-df-convert');\n",
              "        buttonEl.style.display =\n",
              "          google.colab.kernel.accessAllowed ? 'block' : 'none';\n",
              "\n",
              "        async function convertToInteractive(key) {\n",
              "          const element = document.querySelector('#df-9da962c3-b081-4937-9ee3-4780015ee61c');\n",
              "          const dataTable =\n",
              "            await google.colab.kernel.invokeFunction('convertToInteractive',\n",
              "                                                     [key], {});\n",
              "          if (!dataTable) return;\n",
              "\n",
              "          const docLinkHtml = 'Like what you see? Visit the ' +\n",
              "            '<a target=\"_blank\" href=https://colab.research.google.com/notebooks/data_table.ipynb>data table notebook</a>'\n",
              "            + ' to learn more about interactive tables.';\n",
              "          element.innerHTML = '';\n",
              "          dataTable['output_type'] = 'display_data';\n",
              "          await google.colab.output.renderOutput(dataTable, element);\n",
              "          const docLink = document.createElement('div');\n",
              "          docLink.innerHTML = docLinkHtml;\n",
              "          element.appendChild(docLink);\n",
              "        }\n",
              "      </script>\n",
              "    </div>\n",
              "  </div>\n",
              "  "
            ]
          },
          "metadata": {},
          "execution_count": 11
        }
      ]
    },
    {
      "cell_type": "code",
      "source": [
        "#what are the values in the column are known as\n",
        "import pandas as pd\n",
        "data={\"name\":[\"Hridill\",\"Prateek\",\"Aniket\",\"Prathamesh\",\"Prasanna\"],\n",
        "      \"percentile\":[90,91,85,96,95],\n",
        "      \"Branch\":[\"Mechanical\",\"Entc\",\"Computer science\",\"civil\",\"Electronics\"],\n",
        "      \"sex\":[\"M\",\"M\",\"M\",\"M\",\"M\",],}\n",
        "df.tail()"
      ],
      "metadata": {
        "colab": {
          "base_uri": "https://localhost:8080/",
          "height": 206
        },
        "id": "R1gltXm0KILH",
        "outputId": "0e6ac612-c3cb-4350-f238-6b021eda6e59"
      },
      "execution_count": null,
      "outputs": [
        {
          "output_type": "execute_result",
          "data": {
            "text/plain": [
              "         name            Branch sex\n",
              "0     Hridill        Mechanical   M\n",
              "1     Prateek              Entc   M\n",
              "2      Aniket  Computer science   M\n",
              "3  Prathamesh             civil   M\n",
              "4    Prasanna       Electronics   M"
            ],
            "text/html": [
              "\n",
              "  <div id=\"df-3c3d88a3-a794-4a35-bed7-7d82a6caf22f\">\n",
              "    <div class=\"colab-df-container\">\n",
              "      <div>\n",
              "<style scoped>\n",
              "    .dataframe tbody tr th:only-of-type {\n",
              "        vertical-align: middle;\n",
              "    }\n",
              "\n",
              "    .dataframe tbody tr th {\n",
              "        vertical-align: top;\n",
              "    }\n",
              "\n",
              "    .dataframe thead th {\n",
              "        text-align: right;\n",
              "    }\n",
              "</style>\n",
              "<table border=\"1\" class=\"dataframe\">\n",
              "  <thead>\n",
              "    <tr style=\"text-align: right;\">\n",
              "      <th></th>\n",
              "      <th>name</th>\n",
              "      <th>Branch</th>\n",
              "      <th>sex</th>\n",
              "    </tr>\n",
              "  </thead>\n",
              "  <tbody>\n",
              "    <tr>\n",
              "      <th>0</th>\n",
              "      <td>Hridill</td>\n",
              "      <td>Mechanical</td>\n",
              "      <td>M</td>\n",
              "    </tr>\n",
              "    <tr>\n",
              "      <th>1</th>\n",
              "      <td>Prateek</td>\n",
              "      <td>Entc</td>\n",
              "      <td>M</td>\n",
              "    </tr>\n",
              "    <tr>\n",
              "      <th>2</th>\n",
              "      <td>Aniket</td>\n",
              "      <td>Computer science</td>\n",
              "      <td>M</td>\n",
              "    </tr>\n",
              "    <tr>\n",
              "      <th>3</th>\n",
              "      <td>Prathamesh</td>\n",
              "      <td>civil</td>\n",
              "      <td>M</td>\n",
              "    </tr>\n",
              "    <tr>\n",
              "      <th>4</th>\n",
              "      <td>Prasanna</td>\n",
              "      <td>Electronics</td>\n",
              "      <td>M</td>\n",
              "    </tr>\n",
              "  </tbody>\n",
              "</table>\n",
              "</div>\n",
              "      <button class=\"colab-df-convert\" onclick=\"convertToInteractive('df-3c3d88a3-a794-4a35-bed7-7d82a6caf22f')\"\n",
              "              title=\"Convert this dataframe to an interactive table.\"\n",
              "              style=\"display:none;\">\n",
              "        \n",
              "  <svg xmlns=\"http://www.w3.org/2000/svg\" height=\"24px\"viewBox=\"0 0 24 24\"\n",
              "       width=\"24px\">\n",
              "    <path d=\"M0 0h24v24H0V0z\" fill=\"none\"/>\n",
              "    <path d=\"M18.56 5.44l.94 2.06.94-2.06 2.06-.94-2.06-.94-.94-2.06-.94 2.06-2.06.94zm-11 1L8.5 8.5l.94-2.06 2.06-.94-2.06-.94L8.5 2.5l-.94 2.06-2.06.94zm10 10l.94 2.06.94-2.06 2.06-.94-2.06-.94-.94-2.06-.94 2.06-2.06.94z\"/><path d=\"M17.41 7.96l-1.37-1.37c-.4-.4-.92-.59-1.43-.59-.52 0-1.04.2-1.43.59L10.3 9.45l-7.72 7.72c-.78.78-.78 2.05 0 2.83L4 21.41c.39.39.9.59 1.41.59.51 0 1.02-.2 1.41-.59l7.78-7.78 2.81-2.81c.8-.78.8-2.07 0-2.86zM5.41 20L4 18.59l7.72-7.72 1.47 1.35L5.41 20z\"/>\n",
              "  </svg>\n",
              "      </button>\n",
              "      \n",
              "  <style>\n",
              "    .colab-df-container {\n",
              "      display:flex;\n",
              "      flex-wrap:wrap;\n",
              "      gap: 12px;\n",
              "    }\n",
              "\n",
              "    .colab-df-convert {\n",
              "      background-color: #E8F0FE;\n",
              "      border: none;\n",
              "      border-radius: 50%;\n",
              "      cursor: pointer;\n",
              "      display: none;\n",
              "      fill: #1967D2;\n",
              "      height: 32px;\n",
              "      padding: 0 0 0 0;\n",
              "      width: 32px;\n",
              "    }\n",
              "\n",
              "    .colab-df-convert:hover {\n",
              "      background-color: #E2EBFA;\n",
              "      box-shadow: 0px 1px 2px rgba(60, 64, 67, 0.3), 0px 1px 3px 1px rgba(60, 64, 67, 0.15);\n",
              "      fill: #174EA6;\n",
              "    }\n",
              "\n",
              "    [theme=dark] .colab-df-convert {\n",
              "      background-color: #3B4455;\n",
              "      fill: #D2E3FC;\n",
              "    }\n",
              "\n",
              "    [theme=dark] .colab-df-convert:hover {\n",
              "      background-color: #434B5C;\n",
              "      box-shadow: 0px 1px 3px 1px rgba(0, 0, 0, 0.15);\n",
              "      filter: drop-shadow(0px 1px 2px rgba(0, 0, 0, 0.3));\n",
              "      fill: #FFFFFF;\n",
              "    }\n",
              "  </style>\n",
              "\n",
              "      <script>\n",
              "        const buttonEl =\n",
              "          document.querySelector('#df-3c3d88a3-a794-4a35-bed7-7d82a6caf22f button.colab-df-convert');\n",
              "        buttonEl.style.display =\n",
              "          google.colab.kernel.accessAllowed ? 'block' : 'none';\n",
              "\n",
              "        async function convertToInteractive(key) {\n",
              "          const element = document.querySelector('#df-3c3d88a3-a794-4a35-bed7-7d82a6caf22f');\n",
              "          const dataTable =\n",
              "            await google.colab.kernel.invokeFunction('convertToInteractive',\n",
              "                                                     [key], {});\n",
              "          if (!dataTable) return;\n",
              "\n",
              "          const docLinkHtml = 'Like what you see? Visit the ' +\n",
              "            '<a target=\"_blank\" href=https://colab.research.google.com/notebooks/data_table.ipynb>data table notebook</a>'\n",
              "            + ' to learn more about interactive tables.';\n",
              "          element.innerHTML = '';\n",
              "          dataTable['output_type'] = 'display_data';\n",
              "          await google.colab.output.renderOutput(dataTable, element);\n",
              "          const docLink = document.createElement('div');\n",
              "          docLink.innerHTML = docLinkHtml;\n",
              "          element.appendChild(docLink);\n",
              "        }\n",
              "      </script>\n",
              "    </div>\n",
              "  </div>\n",
              "  "
            ]
          },
          "metadata": {},
          "execution_count": 12
        }
      ]
    },
    {
      "cell_type": "code",
      "source": [
        "#what are the values in the column are known as\n",
        "import pandas as pd\n",
        "data={\"name\":[\"Hridill\",\"Prateek\",\"Aniket\",\"Prathamesh\",\"Prasanna\"],\n",
        "      \"percentile\":[90,91,85,96,95],\n",
        "      \"Branch\":[\"Mechanical\",\"Entc\",\"Computer science\",\"civil\",\"Electronics\"],\n",
        "      \"sex\":[\"M\",\"M\",\"M\",\"M\",\"M\",],}\n",
        "df.tail(2)"
      ],
      "metadata": {
        "colab": {
          "base_uri": "https://localhost:8080/",
          "height": 112
        },
        "id": "LYLQ7iExKWBw",
        "outputId": "8fea8bc0-9e0a-4153-fdd3-62df0cf2f37b"
      },
      "execution_count": null,
      "outputs": [
        {
          "output_type": "execute_result",
          "data": {
            "text/plain": [
              "         name       Branch sex\n",
              "3  Prathamesh        civil   M\n",
              "4    Prasanna  Electronics   M"
            ],
            "text/html": [
              "\n",
              "  <div id=\"df-59960db0-a017-401d-9947-b01ba833ddb5\">\n",
              "    <div class=\"colab-df-container\">\n",
              "      <div>\n",
              "<style scoped>\n",
              "    .dataframe tbody tr th:only-of-type {\n",
              "        vertical-align: middle;\n",
              "    }\n",
              "\n",
              "    .dataframe tbody tr th {\n",
              "        vertical-align: top;\n",
              "    }\n",
              "\n",
              "    .dataframe thead th {\n",
              "        text-align: right;\n",
              "    }\n",
              "</style>\n",
              "<table border=\"1\" class=\"dataframe\">\n",
              "  <thead>\n",
              "    <tr style=\"text-align: right;\">\n",
              "      <th></th>\n",
              "      <th>name</th>\n",
              "      <th>Branch</th>\n",
              "      <th>sex</th>\n",
              "    </tr>\n",
              "  </thead>\n",
              "  <tbody>\n",
              "    <tr>\n",
              "      <th>3</th>\n",
              "      <td>Prathamesh</td>\n",
              "      <td>civil</td>\n",
              "      <td>M</td>\n",
              "    </tr>\n",
              "    <tr>\n",
              "      <th>4</th>\n",
              "      <td>Prasanna</td>\n",
              "      <td>Electronics</td>\n",
              "      <td>M</td>\n",
              "    </tr>\n",
              "  </tbody>\n",
              "</table>\n",
              "</div>\n",
              "      <button class=\"colab-df-convert\" onclick=\"convertToInteractive('df-59960db0-a017-401d-9947-b01ba833ddb5')\"\n",
              "              title=\"Convert this dataframe to an interactive table.\"\n",
              "              style=\"display:none;\">\n",
              "        \n",
              "  <svg xmlns=\"http://www.w3.org/2000/svg\" height=\"24px\"viewBox=\"0 0 24 24\"\n",
              "       width=\"24px\">\n",
              "    <path d=\"M0 0h24v24H0V0z\" fill=\"none\"/>\n",
              "    <path d=\"M18.56 5.44l.94 2.06.94-2.06 2.06-.94-2.06-.94-.94-2.06-.94 2.06-2.06.94zm-11 1L8.5 8.5l.94-2.06 2.06-.94-2.06-.94L8.5 2.5l-.94 2.06-2.06.94zm10 10l.94 2.06.94-2.06 2.06-.94-2.06-.94-.94-2.06-.94 2.06-2.06.94z\"/><path d=\"M17.41 7.96l-1.37-1.37c-.4-.4-.92-.59-1.43-.59-.52 0-1.04.2-1.43.59L10.3 9.45l-7.72 7.72c-.78.78-.78 2.05 0 2.83L4 21.41c.39.39.9.59 1.41.59.51 0 1.02-.2 1.41-.59l7.78-7.78 2.81-2.81c.8-.78.8-2.07 0-2.86zM5.41 20L4 18.59l7.72-7.72 1.47 1.35L5.41 20z\"/>\n",
              "  </svg>\n",
              "      </button>\n",
              "      \n",
              "  <style>\n",
              "    .colab-df-container {\n",
              "      display:flex;\n",
              "      flex-wrap:wrap;\n",
              "      gap: 12px;\n",
              "    }\n",
              "\n",
              "    .colab-df-convert {\n",
              "      background-color: #E8F0FE;\n",
              "      border: none;\n",
              "      border-radius: 50%;\n",
              "      cursor: pointer;\n",
              "      display: none;\n",
              "      fill: #1967D2;\n",
              "      height: 32px;\n",
              "      padding: 0 0 0 0;\n",
              "      width: 32px;\n",
              "    }\n",
              "\n",
              "    .colab-df-convert:hover {\n",
              "      background-color: #E2EBFA;\n",
              "      box-shadow: 0px 1px 2px rgba(60, 64, 67, 0.3), 0px 1px 3px 1px rgba(60, 64, 67, 0.15);\n",
              "      fill: #174EA6;\n",
              "    }\n",
              "\n",
              "    [theme=dark] .colab-df-convert {\n",
              "      background-color: #3B4455;\n",
              "      fill: #D2E3FC;\n",
              "    }\n",
              "\n",
              "    [theme=dark] .colab-df-convert:hover {\n",
              "      background-color: #434B5C;\n",
              "      box-shadow: 0px 1px 3px 1px rgba(0, 0, 0, 0.15);\n",
              "      filter: drop-shadow(0px 1px 2px rgba(0, 0, 0, 0.3));\n",
              "      fill: #FFFFFF;\n",
              "    }\n",
              "  </style>\n",
              "\n",
              "      <script>\n",
              "        const buttonEl =\n",
              "          document.querySelector('#df-59960db0-a017-401d-9947-b01ba833ddb5 button.colab-df-convert');\n",
              "        buttonEl.style.display =\n",
              "          google.colab.kernel.accessAllowed ? 'block' : 'none';\n",
              "\n",
              "        async function convertToInteractive(key) {\n",
              "          const element = document.querySelector('#df-59960db0-a017-401d-9947-b01ba833ddb5');\n",
              "          const dataTable =\n",
              "            await google.colab.kernel.invokeFunction('convertToInteractive',\n",
              "                                                     [key], {});\n",
              "          if (!dataTable) return;\n",
              "\n",
              "          const docLinkHtml = 'Like what you see? Visit the ' +\n",
              "            '<a target=\"_blank\" href=https://colab.research.google.com/notebooks/data_table.ipynb>data table notebook</a>'\n",
              "            + ' to learn more about interactive tables.';\n",
              "          element.innerHTML = '';\n",
              "          dataTable['output_type'] = 'display_data';\n",
              "          await google.colab.output.renderOutput(dataTable, element);\n",
              "          const docLink = document.createElement('div');\n",
              "          docLink.innerHTML = docLinkHtml;\n",
              "          element.appendChild(docLink);\n",
              "        }\n",
              "      </script>\n",
              "    </div>\n",
              "  </div>\n",
              "  "
            ]
          },
          "metadata": {},
          "execution_count": 13
        }
      ]
    },
    {
      "cell_type": "code",
      "source": [
        "#what are the values in the column are known as\n",
        "import pandas as pd\n",
        "data={\"name\":[\"Hridill\",\"Prateek\",\"Aniket\",\"Prathamesh\",\"Prasanna\"],\n",
        "      \"percentile\":[90,91,85,96,95],\n",
        "      \"Branch\":[\"Mechanical\",\"Entc\",\"Computer science\",\"civil\",\"Electronics\"],\n",
        "      \"sex\":[\"M\",\"M\",\"M\",\"M\",\"M\",],}\n",
        "df.head(2)"
      ],
      "metadata": {
        "colab": {
          "base_uri": "https://localhost:8080/",
          "height": 112
        },
        "id": "NdmdEj11KXPI",
        "outputId": "af7e9bfa-d686-4ea2-95dd-6d0faa7c97c8"
      },
      "execution_count": null,
      "outputs": [
        {
          "output_type": "execute_result",
          "data": {
            "text/plain": [
              "      name      Branch sex\n",
              "0  Hridill  Mechanical   M\n",
              "1  Prateek        Entc   M"
            ],
            "text/html": [
              "\n",
              "  <div id=\"df-5f2244ed-3c5e-4fe2-abc4-2e84d56d3c02\">\n",
              "    <div class=\"colab-df-container\">\n",
              "      <div>\n",
              "<style scoped>\n",
              "    .dataframe tbody tr th:only-of-type {\n",
              "        vertical-align: middle;\n",
              "    }\n",
              "\n",
              "    .dataframe tbody tr th {\n",
              "        vertical-align: top;\n",
              "    }\n",
              "\n",
              "    .dataframe thead th {\n",
              "        text-align: right;\n",
              "    }\n",
              "</style>\n",
              "<table border=\"1\" class=\"dataframe\">\n",
              "  <thead>\n",
              "    <tr style=\"text-align: right;\">\n",
              "      <th></th>\n",
              "      <th>name</th>\n",
              "      <th>Branch</th>\n",
              "      <th>sex</th>\n",
              "    </tr>\n",
              "  </thead>\n",
              "  <tbody>\n",
              "    <tr>\n",
              "      <th>0</th>\n",
              "      <td>Hridill</td>\n",
              "      <td>Mechanical</td>\n",
              "      <td>M</td>\n",
              "    </tr>\n",
              "    <tr>\n",
              "      <th>1</th>\n",
              "      <td>Prateek</td>\n",
              "      <td>Entc</td>\n",
              "      <td>M</td>\n",
              "    </tr>\n",
              "  </tbody>\n",
              "</table>\n",
              "</div>\n",
              "      <button class=\"colab-df-convert\" onclick=\"convertToInteractive('df-5f2244ed-3c5e-4fe2-abc4-2e84d56d3c02')\"\n",
              "              title=\"Convert this dataframe to an interactive table.\"\n",
              "              style=\"display:none;\">\n",
              "        \n",
              "  <svg xmlns=\"http://www.w3.org/2000/svg\" height=\"24px\"viewBox=\"0 0 24 24\"\n",
              "       width=\"24px\">\n",
              "    <path d=\"M0 0h24v24H0V0z\" fill=\"none\"/>\n",
              "    <path d=\"M18.56 5.44l.94 2.06.94-2.06 2.06-.94-2.06-.94-.94-2.06-.94 2.06-2.06.94zm-11 1L8.5 8.5l.94-2.06 2.06-.94-2.06-.94L8.5 2.5l-.94 2.06-2.06.94zm10 10l.94 2.06.94-2.06 2.06-.94-2.06-.94-.94-2.06-.94 2.06-2.06.94z\"/><path d=\"M17.41 7.96l-1.37-1.37c-.4-.4-.92-.59-1.43-.59-.52 0-1.04.2-1.43.59L10.3 9.45l-7.72 7.72c-.78.78-.78 2.05 0 2.83L4 21.41c.39.39.9.59 1.41.59.51 0 1.02-.2 1.41-.59l7.78-7.78 2.81-2.81c.8-.78.8-2.07 0-2.86zM5.41 20L4 18.59l7.72-7.72 1.47 1.35L5.41 20z\"/>\n",
              "  </svg>\n",
              "      </button>\n",
              "      \n",
              "  <style>\n",
              "    .colab-df-container {\n",
              "      display:flex;\n",
              "      flex-wrap:wrap;\n",
              "      gap: 12px;\n",
              "    }\n",
              "\n",
              "    .colab-df-convert {\n",
              "      background-color: #E8F0FE;\n",
              "      border: none;\n",
              "      border-radius: 50%;\n",
              "      cursor: pointer;\n",
              "      display: none;\n",
              "      fill: #1967D2;\n",
              "      height: 32px;\n",
              "      padding: 0 0 0 0;\n",
              "      width: 32px;\n",
              "    }\n",
              "\n",
              "    .colab-df-convert:hover {\n",
              "      background-color: #E2EBFA;\n",
              "      box-shadow: 0px 1px 2px rgba(60, 64, 67, 0.3), 0px 1px 3px 1px rgba(60, 64, 67, 0.15);\n",
              "      fill: #174EA6;\n",
              "    }\n",
              "\n",
              "    [theme=dark] .colab-df-convert {\n",
              "      background-color: #3B4455;\n",
              "      fill: #D2E3FC;\n",
              "    }\n",
              "\n",
              "    [theme=dark] .colab-df-convert:hover {\n",
              "      background-color: #434B5C;\n",
              "      box-shadow: 0px 1px 3px 1px rgba(0, 0, 0, 0.15);\n",
              "      filter: drop-shadow(0px 1px 2px rgba(0, 0, 0, 0.3));\n",
              "      fill: #FFFFFF;\n",
              "    }\n",
              "  </style>\n",
              "\n",
              "      <script>\n",
              "        const buttonEl =\n",
              "          document.querySelector('#df-5f2244ed-3c5e-4fe2-abc4-2e84d56d3c02 button.colab-df-convert');\n",
              "        buttonEl.style.display =\n",
              "          google.colab.kernel.accessAllowed ? 'block' : 'none';\n",
              "\n",
              "        async function convertToInteractive(key) {\n",
              "          const element = document.querySelector('#df-5f2244ed-3c5e-4fe2-abc4-2e84d56d3c02');\n",
              "          const dataTable =\n",
              "            await google.colab.kernel.invokeFunction('convertToInteractive',\n",
              "                                                     [key], {});\n",
              "          if (!dataTable) return;\n",
              "\n",
              "          const docLinkHtml = 'Like what you see? Visit the ' +\n",
              "            '<a target=\"_blank\" href=https://colab.research.google.com/notebooks/data_table.ipynb>data table notebook</a>'\n",
              "            + ' to learn more about interactive tables.';\n",
              "          element.innerHTML = '';\n",
              "          dataTable['output_type'] = 'display_data';\n",
              "          await google.colab.output.renderOutput(dataTable, element);\n",
              "          const docLink = document.createElement('div');\n",
              "          docLink.innerHTML = docLinkHtml;\n",
              "          element.appendChild(docLink);\n",
              "        }\n",
              "      </script>\n",
              "    </div>\n",
              "  </div>\n",
              "  "
            ]
          },
          "metadata": {},
          "execution_count": 14
        }
      ]
    },
    {
      "cell_type": "code",
      "source": [
        "#what are the values in the column are known as\n",
        "import pandas as pd\n",
        "data={\"name\":[\"Hridill\",\"Prateek\",\"Aniket\",\"Prathamesh\",\"Prasanna\"],\n",
        "      \"percentile\":[90,91,85,96,95],\n",
        "      \"Branch\":[\"Mechanical\",\"Entc\",\"Computer science\",\"civil\",\"Electronics\"],\n",
        "      \"sex\":[\"M\",\"M\",\"M\",\"M\",\"M\",],}\n",
        "\n",
        "df=pd.DataFrame(data,columns=[\"name\",\"Branch\",\"sex\",\"percentile\",])\n",
        "df\n"
      ],
      "metadata": {
        "colab": {
          "base_uri": "https://localhost:8080/",
          "height": 206
        },
        "id": "FAtOP1SCKyVn",
        "outputId": "6b9e5e19-b2b3-4dae-f4e3-8b1528537604"
      },
      "execution_count": null,
      "outputs": [
        {
          "output_type": "execute_result",
          "data": {
            "text/plain": [
              "         name            Branch sex  percentile\n",
              "0     Hridill        Mechanical   M          90\n",
              "1     Prateek              Entc   M          91\n",
              "2      Aniket  Computer science   M          85\n",
              "3  Prathamesh             civil   M          96\n",
              "4    Prasanna       Electronics   M          95"
            ],
            "text/html": [
              "\n",
              "  <div id=\"df-105bc0bc-2979-4a85-b394-6e541d140984\">\n",
              "    <div class=\"colab-df-container\">\n",
              "      <div>\n",
              "<style scoped>\n",
              "    .dataframe tbody tr th:only-of-type {\n",
              "        vertical-align: middle;\n",
              "    }\n",
              "\n",
              "    .dataframe tbody tr th {\n",
              "        vertical-align: top;\n",
              "    }\n",
              "\n",
              "    .dataframe thead th {\n",
              "        text-align: right;\n",
              "    }\n",
              "</style>\n",
              "<table border=\"1\" class=\"dataframe\">\n",
              "  <thead>\n",
              "    <tr style=\"text-align: right;\">\n",
              "      <th></th>\n",
              "      <th>name</th>\n",
              "      <th>Branch</th>\n",
              "      <th>sex</th>\n",
              "      <th>percentile</th>\n",
              "    </tr>\n",
              "  </thead>\n",
              "  <tbody>\n",
              "    <tr>\n",
              "      <th>0</th>\n",
              "      <td>Hridill</td>\n",
              "      <td>Mechanical</td>\n",
              "      <td>M</td>\n",
              "      <td>90</td>\n",
              "    </tr>\n",
              "    <tr>\n",
              "      <th>1</th>\n",
              "      <td>Prateek</td>\n",
              "      <td>Entc</td>\n",
              "      <td>M</td>\n",
              "      <td>91</td>\n",
              "    </tr>\n",
              "    <tr>\n",
              "      <th>2</th>\n",
              "      <td>Aniket</td>\n",
              "      <td>Computer science</td>\n",
              "      <td>M</td>\n",
              "      <td>85</td>\n",
              "    </tr>\n",
              "    <tr>\n",
              "      <th>3</th>\n",
              "      <td>Prathamesh</td>\n",
              "      <td>civil</td>\n",
              "      <td>M</td>\n",
              "      <td>96</td>\n",
              "    </tr>\n",
              "    <tr>\n",
              "      <th>4</th>\n",
              "      <td>Prasanna</td>\n",
              "      <td>Electronics</td>\n",
              "      <td>M</td>\n",
              "      <td>95</td>\n",
              "    </tr>\n",
              "  </tbody>\n",
              "</table>\n",
              "</div>\n",
              "      <button class=\"colab-df-convert\" onclick=\"convertToInteractive('df-105bc0bc-2979-4a85-b394-6e541d140984')\"\n",
              "              title=\"Convert this dataframe to an interactive table.\"\n",
              "              style=\"display:none;\">\n",
              "        \n",
              "  <svg xmlns=\"http://www.w3.org/2000/svg\" height=\"24px\"viewBox=\"0 0 24 24\"\n",
              "       width=\"24px\">\n",
              "    <path d=\"M0 0h24v24H0V0z\" fill=\"none\"/>\n",
              "    <path d=\"M18.56 5.44l.94 2.06.94-2.06 2.06-.94-2.06-.94-.94-2.06-.94 2.06-2.06.94zm-11 1L8.5 8.5l.94-2.06 2.06-.94-2.06-.94L8.5 2.5l-.94 2.06-2.06.94zm10 10l.94 2.06.94-2.06 2.06-.94-2.06-.94-.94-2.06-.94 2.06-2.06.94z\"/><path d=\"M17.41 7.96l-1.37-1.37c-.4-.4-.92-.59-1.43-.59-.52 0-1.04.2-1.43.59L10.3 9.45l-7.72 7.72c-.78.78-.78 2.05 0 2.83L4 21.41c.39.39.9.59 1.41.59.51 0 1.02-.2 1.41-.59l7.78-7.78 2.81-2.81c.8-.78.8-2.07 0-2.86zM5.41 20L4 18.59l7.72-7.72 1.47 1.35L5.41 20z\"/>\n",
              "  </svg>\n",
              "      </button>\n",
              "      \n",
              "  <style>\n",
              "    .colab-df-container {\n",
              "      display:flex;\n",
              "      flex-wrap:wrap;\n",
              "      gap: 12px;\n",
              "    }\n",
              "\n",
              "    .colab-df-convert {\n",
              "      background-color: #E8F0FE;\n",
              "      border: none;\n",
              "      border-radius: 50%;\n",
              "      cursor: pointer;\n",
              "      display: none;\n",
              "      fill: #1967D2;\n",
              "      height: 32px;\n",
              "      padding: 0 0 0 0;\n",
              "      width: 32px;\n",
              "    }\n",
              "\n",
              "    .colab-df-convert:hover {\n",
              "      background-color: #E2EBFA;\n",
              "      box-shadow: 0px 1px 2px rgba(60, 64, 67, 0.3), 0px 1px 3px 1px rgba(60, 64, 67, 0.15);\n",
              "      fill: #174EA6;\n",
              "    }\n",
              "\n",
              "    [theme=dark] .colab-df-convert {\n",
              "      background-color: #3B4455;\n",
              "      fill: #D2E3FC;\n",
              "    }\n",
              "\n",
              "    [theme=dark] .colab-df-convert:hover {\n",
              "      background-color: #434B5C;\n",
              "      box-shadow: 0px 1px 3px 1px rgba(0, 0, 0, 0.15);\n",
              "      filter: drop-shadow(0px 1px 2px rgba(0, 0, 0, 0.3));\n",
              "      fill: #FFFFFF;\n",
              "    }\n",
              "  </style>\n",
              "\n",
              "      <script>\n",
              "        const buttonEl =\n",
              "          document.querySelector('#df-105bc0bc-2979-4a85-b394-6e541d140984 button.colab-df-convert');\n",
              "        buttonEl.style.display =\n",
              "          google.colab.kernel.accessAllowed ? 'block' : 'none';\n",
              "\n",
              "        async function convertToInteractive(key) {\n",
              "          const element = document.querySelector('#df-105bc0bc-2979-4a85-b394-6e541d140984');\n",
              "          const dataTable =\n",
              "            await google.colab.kernel.invokeFunction('convertToInteractive',\n",
              "                                                     [key], {});\n",
              "          if (!dataTable) return;\n",
              "\n",
              "          const docLinkHtml = 'Like what you see? Visit the ' +\n",
              "            '<a target=\"_blank\" href=https://colab.research.google.com/notebooks/data_table.ipynb>data table notebook</a>'\n",
              "            + ' to learn more about interactive tables.';\n",
              "          element.innerHTML = '';\n",
              "          dataTable['output_type'] = 'display_data';\n",
              "          await google.colab.output.renderOutput(dataTable, element);\n",
              "          const docLink = document.createElement('div');\n",
              "          docLink.innerHTML = docLinkHtml;\n",
              "          element.appendChild(docLink);\n",
              "        }\n",
              "      </script>\n",
              "    </div>\n",
              "  </div>\n",
              "  "
            ]
          },
          "metadata": {},
          "execution_count": 15
        }
      ]
    },
    {
      "cell_type": "code",
      "source": [
        "#what are the values in the column are known as\n",
        "import pandas as pd\n",
        "data={\"name\":[\"Hridill\",\"Prateek\",\"Aniket\",\"Prathamesh\",\"Prasanna\"],\n",
        "      \"score\":[90,91,85,96,95],\n",
        "      \"sport\":[\"cricket\",\"kho-kho\",\"carrom\",\"Badmintion\",\"volley ball\"],\n",
        "      \"sex\":[\"M\",\"M\",\"M\",\"M\",\"M\"],\n",
        "      \"age\":[12,13,48,97,52]}\n",
        "df=pd.DataFrame(data)\n",
        "df\n"
      ],
      "metadata": {
        "colab": {
          "base_uri": "https://localhost:8080/",
          "height": 206
        },
        "id": "Tk4MFfiGLDG_",
        "outputId": "ac48a045-38cc-4991-9f99-658c9f94100c"
      },
      "execution_count": null,
      "outputs": [
        {
          "output_type": "execute_result",
          "data": {
            "text/plain": [
              "         name  score        sport sex  age\n",
              "0     Hridill     90      cricket   M   12\n",
              "1     Prateek     91      kho-kho   M   13\n",
              "2      Aniket     85       carrom   M   48\n",
              "3  Prathamesh     96   Badmintion   M   97\n",
              "4    Prasanna     95  volley ball   M   52"
            ],
            "text/html": [
              "\n",
              "  <div id=\"df-4d3f5664-23b9-4761-8ae3-fc2a8fc1efec\">\n",
              "    <div class=\"colab-df-container\">\n",
              "      <div>\n",
              "<style scoped>\n",
              "    .dataframe tbody tr th:only-of-type {\n",
              "        vertical-align: middle;\n",
              "    }\n",
              "\n",
              "    .dataframe tbody tr th {\n",
              "        vertical-align: top;\n",
              "    }\n",
              "\n",
              "    .dataframe thead th {\n",
              "        text-align: right;\n",
              "    }\n",
              "</style>\n",
              "<table border=\"1\" class=\"dataframe\">\n",
              "  <thead>\n",
              "    <tr style=\"text-align: right;\">\n",
              "      <th></th>\n",
              "      <th>name</th>\n",
              "      <th>score</th>\n",
              "      <th>sport</th>\n",
              "      <th>sex</th>\n",
              "      <th>age</th>\n",
              "    </tr>\n",
              "  </thead>\n",
              "  <tbody>\n",
              "    <tr>\n",
              "      <th>0</th>\n",
              "      <td>Hridill</td>\n",
              "      <td>90</td>\n",
              "      <td>cricket</td>\n",
              "      <td>M</td>\n",
              "      <td>12</td>\n",
              "    </tr>\n",
              "    <tr>\n",
              "      <th>1</th>\n",
              "      <td>Prateek</td>\n",
              "      <td>91</td>\n",
              "      <td>kho-kho</td>\n",
              "      <td>M</td>\n",
              "      <td>13</td>\n",
              "    </tr>\n",
              "    <tr>\n",
              "      <th>2</th>\n",
              "      <td>Aniket</td>\n",
              "      <td>85</td>\n",
              "      <td>carrom</td>\n",
              "      <td>M</td>\n",
              "      <td>48</td>\n",
              "    </tr>\n",
              "    <tr>\n",
              "      <th>3</th>\n",
              "      <td>Prathamesh</td>\n",
              "      <td>96</td>\n",
              "      <td>Badmintion</td>\n",
              "      <td>M</td>\n",
              "      <td>97</td>\n",
              "    </tr>\n",
              "    <tr>\n",
              "      <th>4</th>\n",
              "      <td>Prasanna</td>\n",
              "      <td>95</td>\n",
              "      <td>volley ball</td>\n",
              "      <td>M</td>\n",
              "      <td>52</td>\n",
              "    </tr>\n",
              "  </tbody>\n",
              "</table>\n",
              "</div>\n",
              "      <button class=\"colab-df-convert\" onclick=\"convertToInteractive('df-4d3f5664-23b9-4761-8ae3-fc2a8fc1efec')\"\n",
              "              title=\"Convert this dataframe to an interactive table.\"\n",
              "              style=\"display:none;\">\n",
              "        \n",
              "  <svg xmlns=\"http://www.w3.org/2000/svg\" height=\"24px\"viewBox=\"0 0 24 24\"\n",
              "       width=\"24px\">\n",
              "    <path d=\"M0 0h24v24H0V0z\" fill=\"none\"/>\n",
              "    <path d=\"M18.56 5.44l.94 2.06.94-2.06 2.06-.94-2.06-.94-.94-2.06-.94 2.06-2.06.94zm-11 1L8.5 8.5l.94-2.06 2.06-.94-2.06-.94L8.5 2.5l-.94 2.06-2.06.94zm10 10l.94 2.06.94-2.06 2.06-.94-2.06-.94-.94-2.06-.94 2.06-2.06.94z\"/><path d=\"M17.41 7.96l-1.37-1.37c-.4-.4-.92-.59-1.43-.59-.52 0-1.04.2-1.43.59L10.3 9.45l-7.72 7.72c-.78.78-.78 2.05 0 2.83L4 21.41c.39.39.9.59 1.41.59.51 0 1.02-.2 1.41-.59l7.78-7.78 2.81-2.81c.8-.78.8-2.07 0-2.86zM5.41 20L4 18.59l7.72-7.72 1.47 1.35L5.41 20z\"/>\n",
              "  </svg>\n",
              "      </button>\n",
              "      \n",
              "  <style>\n",
              "    .colab-df-container {\n",
              "      display:flex;\n",
              "      flex-wrap:wrap;\n",
              "      gap: 12px;\n",
              "    }\n",
              "\n",
              "    .colab-df-convert {\n",
              "      background-color: #E8F0FE;\n",
              "      border: none;\n",
              "      border-radius: 50%;\n",
              "      cursor: pointer;\n",
              "      display: none;\n",
              "      fill: #1967D2;\n",
              "      height: 32px;\n",
              "      padding: 0 0 0 0;\n",
              "      width: 32px;\n",
              "    }\n",
              "\n",
              "    .colab-df-convert:hover {\n",
              "      background-color: #E2EBFA;\n",
              "      box-shadow: 0px 1px 2px rgba(60, 64, 67, 0.3), 0px 1px 3px 1px rgba(60, 64, 67, 0.15);\n",
              "      fill: #174EA6;\n",
              "    }\n",
              "\n",
              "    [theme=dark] .colab-df-convert {\n",
              "      background-color: #3B4455;\n",
              "      fill: #D2E3FC;\n",
              "    }\n",
              "\n",
              "    [theme=dark] .colab-df-convert:hover {\n",
              "      background-color: #434B5C;\n",
              "      box-shadow: 0px 1px 3px 1px rgba(0, 0, 0, 0.15);\n",
              "      filter: drop-shadow(0px 1px 2px rgba(0, 0, 0, 0.3));\n",
              "      fill: #FFFFFF;\n",
              "    }\n",
              "  </style>\n",
              "\n",
              "      <script>\n",
              "        const buttonEl =\n",
              "          document.querySelector('#df-4d3f5664-23b9-4761-8ae3-fc2a8fc1efec button.colab-df-convert');\n",
              "        buttonEl.style.display =\n",
              "          google.colab.kernel.accessAllowed ? 'block' : 'none';\n",
              "\n",
              "        async function convertToInteractive(key) {\n",
              "          const element = document.querySelector('#df-4d3f5664-23b9-4761-8ae3-fc2a8fc1efec');\n",
              "          const dataTable =\n",
              "            await google.colab.kernel.invokeFunction('convertToInteractive',\n",
              "                                                     [key], {});\n",
              "          if (!dataTable) return;\n",
              "\n",
              "          const docLinkHtml = 'Like what you see? Visit the ' +\n",
              "            '<a target=\"_blank\" href=https://colab.research.google.com/notebooks/data_table.ipynb>data table notebook</a>'\n",
              "            + ' to learn more about interactive tables.';\n",
              "          element.innerHTML = '';\n",
              "          dataTable['output_type'] = 'display_data';\n",
              "          await google.colab.output.renderOutput(dataTable, element);\n",
              "          const docLink = document.createElement('div');\n",
              "          docLink.innerHTML = docLinkHtml;\n",
              "          element.appendChild(docLink);\n",
              "        }\n",
              "      </script>\n",
              "    </div>\n",
              "  </div>\n",
              "  "
            ]
          },
          "metadata": {},
          "execution_count": 21
        }
      ]
    },
    {
      "cell_type": "code",
      "source": [
        "#what are the values in the column are known as\n",
        "import pandas as pd\n",
        "data={\"name\":[\"Hridill\",\"Prateek\",\"Aniket\",\"Prathamesh\",\"Prasanna\"],\n",
        "      \"score\":[90,91,85,96,95],\n",
        "      \"sport\":[\"cricket\",\"kho-kho\",\"carrom\",\"Badmintion\",\"volley ball\"],\n",
        "      \"sex\":[\"M\",\"M\",\"M\",\"M\",\"M\"],\n",
        "      \"age\":[12,13,48,97,52]}\n",
        "df=pd.DataFrame(data,columns=[\"name\",\"score\",\"sport\",\"gender\",\"sex\",\"age\"])\n",
        "df\n"
      ],
      "metadata": {
        "colab": {
          "base_uri": "https://localhost:8080/",
          "height": 206
        },
        "id": "7p7lA_gsNXZX",
        "outputId": "624efea4-abd5-4efc-d7f6-865735c30593"
      },
      "execution_count": null,
      "outputs": [
        {
          "output_type": "execute_result",
          "data": {
            "text/plain": [
              "         name  score        sport gender sex  age\n",
              "0     Hridill     90      cricket    NaN   M   12\n",
              "1     Prateek     91      kho-kho    NaN   M   13\n",
              "2      Aniket     85       carrom    NaN   M   48\n",
              "3  Prathamesh     96   Badmintion    NaN   M   97\n",
              "4    Prasanna     95  volley ball    NaN   M   52"
            ],
            "text/html": [
              "\n",
              "  <div id=\"df-b3a50cd7-8f65-4cfd-89da-4c8ae513f6fb\">\n",
              "    <div class=\"colab-df-container\">\n",
              "      <div>\n",
              "<style scoped>\n",
              "    .dataframe tbody tr th:only-of-type {\n",
              "        vertical-align: middle;\n",
              "    }\n",
              "\n",
              "    .dataframe tbody tr th {\n",
              "        vertical-align: top;\n",
              "    }\n",
              "\n",
              "    .dataframe thead th {\n",
              "        text-align: right;\n",
              "    }\n",
              "</style>\n",
              "<table border=\"1\" class=\"dataframe\">\n",
              "  <thead>\n",
              "    <tr style=\"text-align: right;\">\n",
              "      <th></th>\n",
              "      <th>name</th>\n",
              "      <th>score</th>\n",
              "      <th>sport</th>\n",
              "      <th>gender</th>\n",
              "      <th>sex</th>\n",
              "      <th>age</th>\n",
              "    </tr>\n",
              "  </thead>\n",
              "  <tbody>\n",
              "    <tr>\n",
              "      <th>0</th>\n",
              "      <td>Hridill</td>\n",
              "      <td>90</td>\n",
              "      <td>cricket</td>\n",
              "      <td>NaN</td>\n",
              "      <td>M</td>\n",
              "      <td>12</td>\n",
              "    </tr>\n",
              "    <tr>\n",
              "      <th>1</th>\n",
              "      <td>Prateek</td>\n",
              "      <td>91</td>\n",
              "      <td>kho-kho</td>\n",
              "      <td>NaN</td>\n",
              "      <td>M</td>\n",
              "      <td>13</td>\n",
              "    </tr>\n",
              "    <tr>\n",
              "      <th>2</th>\n",
              "      <td>Aniket</td>\n",
              "      <td>85</td>\n",
              "      <td>carrom</td>\n",
              "      <td>NaN</td>\n",
              "      <td>M</td>\n",
              "      <td>48</td>\n",
              "    </tr>\n",
              "    <tr>\n",
              "      <th>3</th>\n",
              "      <td>Prathamesh</td>\n",
              "      <td>96</td>\n",
              "      <td>Badmintion</td>\n",
              "      <td>NaN</td>\n",
              "      <td>M</td>\n",
              "      <td>97</td>\n",
              "    </tr>\n",
              "    <tr>\n",
              "      <th>4</th>\n",
              "      <td>Prasanna</td>\n",
              "      <td>95</td>\n",
              "      <td>volley ball</td>\n",
              "      <td>NaN</td>\n",
              "      <td>M</td>\n",
              "      <td>52</td>\n",
              "    </tr>\n",
              "  </tbody>\n",
              "</table>\n",
              "</div>\n",
              "      <button class=\"colab-df-convert\" onclick=\"convertToInteractive('df-b3a50cd7-8f65-4cfd-89da-4c8ae513f6fb')\"\n",
              "              title=\"Convert this dataframe to an interactive table.\"\n",
              "              style=\"display:none;\">\n",
              "        \n",
              "  <svg xmlns=\"http://www.w3.org/2000/svg\" height=\"24px\"viewBox=\"0 0 24 24\"\n",
              "       width=\"24px\">\n",
              "    <path d=\"M0 0h24v24H0V0z\" fill=\"none\"/>\n",
              "    <path d=\"M18.56 5.44l.94 2.06.94-2.06 2.06-.94-2.06-.94-.94-2.06-.94 2.06-2.06.94zm-11 1L8.5 8.5l.94-2.06 2.06-.94-2.06-.94L8.5 2.5l-.94 2.06-2.06.94zm10 10l.94 2.06.94-2.06 2.06-.94-2.06-.94-.94-2.06-.94 2.06-2.06.94z\"/><path d=\"M17.41 7.96l-1.37-1.37c-.4-.4-.92-.59-1.43-.59-.52 0-1.04.2-1.43.59L10.3 9.45l-7.72 7.72c-.78.78-.78 2.05 0 2.83L4 21.41c.39.39.9.59 1.41.59.51 0 1.02-.2 1.41-.59l7.78-7.78 2.81-2.81c.8-.78.8-2.07 0-2.86zM5.41 20L4 18.59l7.72-7.72 1.47 1.35L5.41 20z\"/>\n",
              "  </svg>\n",
              "      </button>\n",
              "      \n",
              "  <style>\n",
              "    .colab-df-container {\n",
              "      display:flex;\n",
              "      flex-wrap:wrap;\n",
              "      gap: 12px;\n",
              "    }\n",
              "\n",
              "    .colab-df-convert {\n",
              "      background-color: #E8F0FE;\n",
              "      border: none;\n",
              "      border-radius: 50%;\n",
              "      cursor: pointer;\n",
              "      display: none;\n",
              "      fill: #1967D2;\n",
              "      height: 32px;\n",
              "      padding: 0 0 0 0;\n",
              "      width: 32px;\n",
              "    }\n",
              "\n",
              "    .colab-df-convert:hover {\n",
              "      background-color: #E2EBFA;\n",
              "      box-shadow: 0px 1px 2px rgba(60, 64, 67, 0.3), 0px 1px 3px 1px rgba(60, 64, 67, 0.15);\n",
              "      fill: #174EA6;\n",
              "    }\n",
              "\n",
              "    [theme=dark] .colab-df-convert {\n",
              "      background-color: #3B4455;\n",
              "      fill: #D2E3FC;\n",
              "    }\n",
              "\n",
              "    [theme=dark] .colab-df-convert:hover {\n",
              "      background-color: #434B5C;\n",
              "      box-shadow: 0px 1px 3px 1px rgba(0, 0, 0, 0.15);\n",
              "      filter: drop-shadow(0px 1px 2px rgba(0, 0, 0, 0.3));\n",
              "      fill: #FFFFFF;\n",
              "    }\n",
              "  </style>\n",
              "\n",
              "      <script>\n",
              "        const buttonEl =\n",
              "          document.querySelector('#df-b3a50cd7-8f65-4cfd-89da-4c8ae513f6fb button.colab-df-convert');\n",
              "        buttonEl.style.display =\n",
              "          google.colab.kernel.accessAllowed ? 'block' : 'none';\n",
              "\n",
              "        async function convertToInteractive(key) {\n",
              "          const element = document.querySelector('#df-b3a50cd7-8f65-4cfd-89da-4c8ae513f6fb');\n",
              "          const dataTable =\n",
              "            await google.colab.kernel.invokeFunction('convertToInteractive',\n",
              "                                                     [key], {});\n",
              "          if (!dataTable) return;\n",
              "\n",
              "          const docLinkHtml = 'Like what you see? Visit the ' +\n",
              "            '<a target=\"_blank\" href=https://colab.research.google.com/notebooks/data_table.ipynb>data table notebook</a>'\n",
              "            + ' to learn more about interactive tables.';\n",
              "          element.innerHTML = '';\n",
              "          dataTable['output_type'] = 'display_data';\n",
              "          await google.colab.output.renderOutput(dataTable, element);\n",
              "          const docLink = document.createElement('div');\n",
              "          docLink.innerHTML = docLinkHtml;\n",
              "          element.appendChild(docLink);\n",
              "        }\n",
              "      </script>\n",
              "    </div>\n",
              "  </div>\n",
              "  "
            ]
          },
          "metadata": {},
          "execution_count": 22
        }
      ]
    },
    {
      "cell_type": "code",
      "source": [
        "#what are the values in the column are known as\n",
        "import pandas as pd\n",
        "data={\"name\":[\"Hridill\",\"Prateek\",\"Aniket\",\"Prathamesh\",\"Prasanna\"],\n",
        "      \"score\":[90,91,85,96,95],\n",
        "      \"sport\":[\"cricket\",\"kho-kho\",\"carrom\",\"Badmintion\",\"volley ball\"],\n",
        "      \"sex\":[\"M\",\"M\",\"M\",\"M\",\"M\"],\n",
        "      \"age\":[12,13,48,97,52]}\n",
        "df=pd.DataFrame(data,columns=[\"name\",\"score\",\"sport\",\"gender\",\"sex\"])\n",
        "df\n"
      ],
      "metadata": {
        "colab": {
          "base_uri": "https://localhost:8080/",
          "height": 206
        },
        "id": "aEGzLYdXNvHb",
        "outputId": "8cd3a11d-3077-4be4-a308-70ca66410c75"
      },
      "execution_count": null,
      "outputs": [
        {
          "output_type": "execute_result",
          "data": {
            "text/plain": [
              "         name  score        sport gender sex\n",
              "0     Hridill     90      cricket    NaN   M\n",
              "1     Prateek     91      kho-kho    NaN   M\n",
              "2      Aniket     85       carrom    NaN   M\n",
              "3  Prathamesh     96   Badmintion    NaN   M\n",
              "4    Prasanna     95  volley ball    NaN   M"
            ],
            "text/html": [
              "\n",
              "  <div id=\"df-ca79aeb5-d8c6-4208-a626-f6eae8297e86\">\n",
              "    <div class=\"colab-df-container\">\n",
              "      <div>\n",
              "<style scoped>\n",
              "    .dataframe tbody tr th:only-of-type {\n",
              "        vertical-align: middle;\n",
              "    }\n",
              "\n",
              "    .dataframe tbody tr th {\n",
              "        vertical-align: top;\n",
              "    }\n",
              "\n",
              "    .dataframe thead th {\n",
              "        text-align: right;\n",
              "    }\n",
              "</style>\n",
              "<table border=\"1\" class=\"dataframe\">\n",
              "  <thead>\n",
              "    <tr style=\"text-align: right;\">\n",
              "      <th></th>\n",
              "      <th>name</th>\n",
              "      <th>score</th>\n",
              "      <th>sport</th>\n",
              "      <th>gender</th>\n",
              "      <th>sex</th>\n",
              "    </tr>\n",
              "  </thead>\n",
              "  <tbody>\n",
              "    <tr>\n",
              "      <th>0</th>\n",
              "      <td>Hridill</td>\n",
              "      <td>90</td>\n",
              "      <td>cricket</td>\n",
              "      <td>NaN</td>\n",
              "      <td>M</td>\n",
              "    </tr>\n",
              "    <tr>\n",
              "      <th>1</th>\n",
              "      <td>Prateek</td>\n",
              "      <td>91</td>\n",
              "      <td>kho-kho</td>\n",
              "      <td>NaN</td>\n",
              "      <td>M</td>\n",
              "    </tr>\n",
              "    <tr>\n",
              "      <th>2</th>\n",
              "      <td>Aniket</td>\n",
              "      <td>85</td>\n",
              "      <td>carrom</td>\n",
              "      <td>NaN</td>\n",
              "      <td>M</td>\n",
              "    </tr>\n",
              "    <tr>\n",
              "      <th>3</th>\n",
              "      <td>Prathamesh</td>\n",
              "      <td>96</td>\n",
              "      <td>Badmintion</td>\n",
              "      <td>NaN</td>\n",
              "      <td>M</td>\n",
              "    </tr>\n",
              "    <tr>\n",
              "      <th>4</th>\n",
              "      <td>Prasanna</td>\n",
              "      <td>95</td>\n",
              "      <td>volley ball</td>\n",
              "      <td>NaN</td>\n",
              "      <td>M</td>\n",
              "    </tr>\n",
              "  </tbody>\n",
              "</table>\n",
              "</div>\n",
              "      <button class=\"colab-df-convert\" onclick=\"convertToInteractive('df-ca79aeb5-d8c6-4208-a626-f6eae8297e86')\"\n",
              "              title=\"Convert this dataframe to an interactive table.\"\n",
              "              style=\"display:none;\">\n",
              "        \n",
              "  <svg xmlns=\"http://www.w3.org/2000/svg\" height=\"24px\"viewBox=\"0 0 24 24\"\n",
              "       width=\"24px\">\n",
              "    <path d=\"M0 0h24v24H0V0z\" fill=\"none\"/>\n",
              "    <path d=\"M18.56 5.44l.94 2.06.94-2.06 2.06-.94-2.06-.94-.94-2.06-.94 2.06-2.06.94zm-11 1L8.5 8.5l.94-2.06 2.06-.94-2.06-.94L8.5 2.5l-.94 2.06-2.06.94zm10 10l.94 2.06.94-2.06 2.06-.94-2.06-.94-.94-2.06-.94 2.06-2.06.94z\"/><path d=\"M17.41 7.96l-1.37-1.37c-.4-.4-.92-.59-1.43-.59-.52 0-1.04.2-1.43.59L10.3 9.45l-7.72 7.72c-.78.78-.78 2.05 0 2.83L4 21.41c.39.39.9.59 1.41.59.51 0 1.02-.2 1.41-.59l7.78-7.78 2.81-2.81c.8-.78.8-2.07 0-2.86zM5.41 20L4 18.59l7.72-7.72 1.47 1.35L5.41 20z\"/>\n",
              "  </svg>\n",
              "      </button>\n",
              "      \n",
              "  <style>\n",
              "    .colab-df-container {\n",
              "      display:flex;\n",
              "      flex-wrap:wrap;\n",
              "      gap: 12px;\n",
              "    }\n",
              "\n",
              "    .colab-df-convert {\n",
              "      background-color: #E8F0FE;\n",
              "      border: none;\n",
              "      border-radius: 50%;\n",
              "      cursor: pointer;\n",
              "      display: none;\n",
              "      fill: #1967D2;\n",
              "      height: 32px;\n",
              "      padding: 0 0 0 0;\n",
              "      width: 32px;\n",
              "    }\n",
              "\n",
              "    .colab-df-convert:hover {\n",
              "      background-color: #E2EBFA;\n",
              "      box-shadow: 0px 1px 2px rgba(60, 64, 67, 0.3), 0px 1px 3px 1px rgba(60, 64, 67, 0.15);\n",
              "      fill: #174EA6;\n",
              "    }\n",
              "\n",
              "    [theme=dark] .colab-df-convert {\n",
              "      background-color: #3B4455;\n",
              "      fill: #D2E3FC;\n",
              "    }\n",
              "\n",
              "    [theme=dark] .colab-df-convert:hover {\n",
              "      background-color: #434B5C;\n",
              "      box-shadow: 0px 1px 3px 1px rgba(0, 0, 0, 0.15);\n",
              "      filter: drop-shadow(0px 1px 2px rgba(0, 0, 0, 0.3));\n",
              "      fill: #FFFFFF;\n",
              "    }\n",
              "  </style>\n",
              "\n",
              "      <script>\n",
              "        const buttonEl =\n",
              "          document.querySelector('#df-ca79aeb5-d8c6-4208-a626-f6eae8297e86 button.colab-df-convert');\n",
              "        buttonEl.style.display =\n",
              "          google.colab.kernel.accessAllowed ? 'block' : 'none';\n",
              "\n",
              "        async function convertToInteractive(key) {\n",
              "          const element = document.querySelector('#df-ca79aeb5-d8c6-4208-a626-f6eae8297e86');\n",
              "          const dataTable =\n",
              "            await google.colab.kernel.invokeFunction('convertToInteractive',\n",
              "                                                     [key], {});\n",
              "          if (!dataTable) return;\n",
              "\n",
              "          const docLinkHtml = 'Like what you see? Visit the ' +\n",
              "            '<a target=\"_blank\" href=https://colab.research.google.com/notebooks/data_table.ipynb>data table notebook</a>'\n",
              "            + ' to learn more about interactive tables.';\n",
              "          element.innerHTML = '';\n",
              "          dataTable['output_type'] = 'display_data';\n",
              "          await google.colab.output.renderOutput(dataTable, element);\n",
              "          const docLink = document.createElement('div');\n",
              "          docLink.innerHTML = docLinkHtml;\n",
              "          element.appendChild(docLink);\n",
              "        }\n",
              "      </script>\n",
              "    </div>\n",
              "  </div>\n",
              "  "
            ]
          },
          "metadata": {},
          "execution_count": 23
        }
      ]
    },
    {
      "cell_type": "code",
      "source": [
        "import pandas as pd\n",
        "data={\"name\":[\"Hridill\",\"Prateek\",\"Aniket\",\"Prathamesh\",\"Prasanna\"],\n",
        "      \"score\":[90,91,85,96,95],\n",
        "      \"sport\":[\"cricket\",\"kho-kho\",\"carrom\",\"Badmintion\",\"volley ball\"],\n",
        "      \"sex\":[\"M\",\"M\",\"M\",\"M\",\"M\"],\n",
        "      \"age\":[12,13,48,97,52]}\n",
        "df=pd.Dataframe(data,columns=[\"name\",\"sport\",\"gender\"])\n",
        "\n",
        "\n"
      ],
      "metadata": {
        "id": "M-BiqHD2OkR4"
      },
      "execution_count": null,
      "outputs": []
    },
    {
      "cell_type": "code",
      "source": [
        "df=pd.DataFrame(data,columns=[\"name\",\"sport\",\"gender\",\"score\",\"age\",],\n",
        "                index=[\"one\",\"teo\",\"three\",\"four\",\"five\"])\n",
        "value=[17,18,19,20,21]\n",
        "df[\"age\"]=value\n",
        "df"
      ],
      "metadata": {
        "colab": {
          "base_uri": "https://localhost:8080/",
          "height": 206
        },
        "id": "xsbSo4YMO54P",
        "outputId": "980ef9cc-4797-4a12-f41d-4d372de16a74"
      },
      "execution_count": null,
      "outputs": [
        {
          "output_type": "execute_result",
          "data": {
            "text/plain": [
              "             name        sport gender  score  age\n",
              "one       Hridill      cricket    NaN     90   17\n",
              "teo       Prateek      kho-kho    NaN     91   18\n",
              "three      Aniket       carrom    NaN     85   19\n",
              "four   Prathamesh   Badmintion    NaN     96   20\n",
              "five     Prasanna  volley ball    NaN     95   21"
            ],
            "text/html": [
              "\n",
              "  <div id=\"df-070d0d59-3fcf-43c0-89f2-d8defadce5c4\">\n",
              "    <div class=\"colab-df-container\">\n",
              "      <div>\n",
              "<style scoped>\n",
              "    .dataframe tbody tr th:only-of-type {\n",
              "        vertical-align: middle;\n",
              "    }\n",
              "\n",
              "    .dataframe tbody tr th {\n",
              "        vertical-align: top;\n",
              "    }\n",
              "\n",
              "    .dataframe thead th {\n",
              "        text-align: right;\n",
              "    }\n",
              "</style>\n",
              "<table border=\"1\" class=\"dataframe\">\n",
              "  <thead>\n",
              "    <tr style=\"text-align: right;\">\n",
              "      <th></th>\n",
              "      <th>name</th>\n",
              "      <th>sport</th>\n",
              "      <th>gender</th>\n",
              "      <th>score</th>\n",
              "      <th>age</th>\n",
              "    </tr>\n",
              "  </thead>\n",
              "  <tbody>\n",
              "    <tr>\n",
              "      <th>one</th>\n",
              "      <td>Hridill</td>\n",
              "      <td>cricket</td>\n",
              "      <td>NaN</td>\n",
              "      <td>90</td>\n",
              "      <td>17</td>\n",
              "    </tr>\n",
              "    <tr>\n",
              "      <th>teo</th>\n",
              "      <td>Prateek</td>\n",
              "      <td>kho-kho</td>\n",
              "      <td>NaN</td>\n",
              "      <td>91</td>\n",
              "      <td>18</td>\n",
              "    </tr>\n",
              "    <tr>\n",
              "      <th>three</th>\n",
              "      <td>Aniket</td>\n",
              "      <td>carrom</td>\n",
              "      <td>NaN</td>\n",
              "      <td>85</td>\n",
              "      <td>19</td>\n",
              "    </tr>\n",
              "    <tr>\n",
              "      <th>four</th>\n",
              "      <td>Prathamesh</td>\n",
              "      <td>Badmintion</td>\n",
              "      <td>NaN</td>\n",
              "      <td>96</td>\n",
              "      <td>20</td>\n",
              "    </tr>\n",
              "    <tr>\n",
              "      <th>five</th>\n",
              "      <td>Prasanna</td>\n",
              "      <td>volley ball</td>\n",
              "      <td>NaN</td>\n",
              "      <td>95</td>\n",
              "      <td>21</td>\n",
              "    </tr>\n",
              "  </tbody>\n",
              "</table>\n",
              "</div>\n",
              "      <button class=\"colab-df-convert\" onclick=\"convertToInteractive('df-070d0d59-3fcf-43c0-89f2-d8defadce5c4')\"\n",
              "              title=\"Convert this dataframe to an interactive table.\"\n",
              "              style=\"display:none;\">\n",
              "        \n",
              "  <svg xmlns=\"http://www.w3.org/2000/svg\" height=\"24px\"viewBox=\"0 0 24 24\"\n",
              "       width=\"24px\">\n",
              "    <path d=\"M0 0h24v24H0V0z\" fill=\"none\"/>\n",
              "    <path d=\"M18.56 5.44l.94 2.06.94-2.06 2.06-.94-2.06-.94-.94-2.06-.94 2.06-2.06.94zm-11 1L8.5 8.5l.94-2.06 2.06-.94-2.06-.94L8.5 2.5l-.94 2.06-2.06.94zm10 10l.94 2.06.94-2.06 2.06-.94-2.06-.94-.94-2.06-.94 2.06-2.06.94z\"/><path d=\"M17.41 7.96l-1.37-1.37c-.4-.4-.92-.59-1.43-.59-.52 0-1.04.2-1.43.59L10.3 9.45l-7.72 7.72c-.78.78-.78 2.05 0 2.83L4 21.41c.39.39.9.59 1.41.59.51 0 1.02-.2 1.41-.59l7.78-7.78 2.81-2.81c.8-.78.8-2.07 0-2.86zM5.41 20L4 18.59l7.72-7.72 1.47 1.35L5.41 20z\"/>\n",
              "  </svg>\n",
              "      </button>\n",
              "      \n",
              "  <style>\n",
              "    .colab-df-container {\n",
              "      display:flex;\n",
              "      flex-wrap:wrap;\n",
              "      gap: 12px;\n",
              "    }\n",
              "\n",
              "    .colab-df-convert {\n",
              "      background-color: #E8F0FE;\n",
              "      border: none;\n",
              "      border-radius: 50%;\n",
              "      cursor: pointer;\n",
              "      display: none;\n",
              "      fill: #1967D2;\n",
              "      height: 32px;\n",
              "      padding: 0 0 0 0;\n",
              "      width: 32px;\n",
              "    }\n",
              "\n",
              "    .colab-df-convert:hover {\n",
              "      background-color: #E2EBFA;\n",
              "      box-shadow: 0px 1px 2px rgba(60, 64, 67, 0.3), 0px 1px 3px 1px rgba(60, 64, 67, 0.15);\n",
              "      fill: #174EA6;\n",
              "    }\n",
              "\n",
              "    [theme=dark] .colab-df-convert {\n",
              "      background-color: #3B4455;\n",
              "      fill: #D2E3FC;\n",
              "    }\n",
              "\n",
              "    [theme=dark] .colab-df-convert:hover {\n",
              "      background-color: #434B5C;\n",
              "      box-shadow: 0px 1px 3px 1px rgba(0, 0, 0, 0.15);\n",
              "      filter: drop-shadow(0px 1px 2px rgba(0, 0, 0, 0.3));\n",
              "      fill: #FFFFFF;\n",
              "    }\n",
              "  </style>\n",
              "\n",
              "      <script>\n",
              "        const buttonEl =\n",
              "          document.querySelector('#df-070d0d59-3fcf-43c0-89f2-d8defadce5c4 button.colab-df-convert');\n",
              "        buttonEl.style.display =\n",
              "          google.colab.kernel.accessAllowed ? 'block' : 'none';\n",
              "\n",
              "        async function convertToInteractive(key) {\n",
              "          const element = document.querySelector('#df-070d0d59-3fcf-43c0-89f2-d8defadce5c4');\n",
              "          const dataTable =\n",
              "            await google.colab.kernel.invokeFunction('convertToInteractive',\n",
              "                                                     [key], {});\n",
              "          if (!dataTable) return;\n",
              "\n",
              "          const docLinkHtml = 'Like what you see? Visit the ' +\n",
              "            '<a target=\"_blank\" href=https://colab.research.google.com/notebooks/data_table.ipynb>data table notebook</a>'\n",
              "            + ' to learn more about interactive tables.';\n",
              "          element.innerHTML = '';\n",
              "          dataTable['output_type'] = 'display_data';\n",
              "          await google.colab.output.renderOutput(dataTable, element);\n",
              "          const docLink = document.createElement('div');\n",
              "          docLink.innerHTML = docLinkHtml;\n",
              "          element.appendChild(docLink);\n",
              "        }\n",
              "      </script>\n",
              "    </div>\n",
              "  </div>\n",
              "  "
            ]
          },
          "metadata": {},
          "execution_count": 36
        }
      ]
    },
    {
      "cell_type": "code",
      "source": [
        "#variables is used to store the data in the code\n",
        "#variable means the location of the data in the computer\n",
        "#if we want to print the variable which contain the data it should be in the () without the \"\"\n",
        "#anything which goes inside the \"\" will print as its without taking its value\n",
        "subject=\"Essential data science\"\n",
        "print(subject)"
      ],
      "metadata": {
        "colab": {
          "base_uri": "https://localhost:8080/"
        },
        "id": "LrM7UjK-EyEM",
        "outputId": "9ad64170-3e45-47c7-e0b7-70fa768dac2e"
      },
      "execution_count": null,
      "outputs": [
        {
          "output_type": "stream",
          "name": "stdout",
          "text": [
            "Essential data science\n"
          ]
        }
      ]
    },
    {
      "cell_type": "code",
      "source": [
        "#exersice\n",
        "#write a name tony stark\n",
        "a=(\"Tony Stark\")\n",
        "age=(\"56\")\n",
        "b=(\"Tony is genius boy\")\n",
        "print(a,age,b)"
      ],
      "metadata": {
        "colab": {
          "base_uri": "https://localhost:8080/"
        },
        "id": "83Yu9gtwH5SK",
        "outputId": "5749a032-440a-432e-ccb0-b10d4fea84a5"
      },
      "execution_count": null,
      "outputs": [
        {
          "output_type": "stream",
          "name": "stdout",
          "text": [
            "Tony Stark 56 Tony is genius boy\n"
          ]
        }
      ]
    },
    {
      "cell_type": "code",
      "source": [
        "#input just take the input from the user in which the toggle appears\n",
        "#in this case the input is store in the variable \"a\"\n",
        "a=input(\"What is your name?\")\n",
        "print(a)"
      ],
      "metadata": {
        "colab": {
          "base_uri": "https://localhost:8080/"
        },
        "id": "5AFhBPDMKQla",
        "outputId": "7b029a9e-cef9-4239-9032-662832684575"
      },
      "execution_count": null,
      "outputs": [
        {
          "output_type": "stream",
          "name": "stdout",
          "text": [
            "What is your name?Roshan \n",
            "Roshan \n"
          ]
        }
      ]
    },
    {
      "cell_type": "code",
      "source": [
        "#This is the case of concatination where input result is added with another statement\n",
        "\n",
        "\n",
        "B=input(\"what is your collge name = \")\n",
        "print(\"My collge name is \" + B)"
      ],
      "metadata": {
        "colab": {
          "base_uri": "https://localhost:8080/"
        },
        "id": "Qhqp5rzzLFUQ",
        "outputId": "941b9bf6-4475-4196-9975-9f8b68b80e9a"
      },
      "execution_count": null,
      "outputs": [
        {
          "output_type": "stream",
          "name": "stdout",
          "text": [
            "what is your collge name = Roshan\n",
            "My collge name is Roshan\n"
          ]
        }
      ]
    },
    {
      "cell_type": "code",
      "source": [
        "#Tony is secretly super hero.ask him for his superhero name and show it on the terminal\n",
        "u=input(\"Heyy, Tony who is your favorite superhero??\")\n",
        "print(\"As per the disscusion tony's superhero is \"+u)\n"
      ],
      "metadata": {
        "colab": {
          "base_uri": "https://localhost:8080/"
        },
        "id": "7SqQPJCCM6Bf",
        "outputId": "f87ede10-51a9-44e6-a9d9-ee5a14d61833"
      },
      "execution_count": null,
      "outputs": [
        {
          "output_type": "stream",
          "name": "stdout",
          "text": [
            "Heyy, Tony who is your favorite superhero??superman\n",
            "As per the disscusion tony's superhero is superman\n"
          ]
        }
      ]
    },
    {
      "cell_type": "code",
      "source": [
        "#type of conversion\n",
        "#float is where the decimal\n",
        "#int is where integer\n",
        "#string is where its value doesnt change\n",
        "old_age=input(\"Enter the old age \")\n",
        "new_age=int(old_age) + 2\n",
        "print(new_age)\n"
      ],
      "metadata": {
        "colab": {
          "base_uri": "https://localhost:8080/"
        },
        "id": "eMJ6qPfw749c",
        "outputId": "a2ab7adc-76d0-41a2-a745-b87720f0cffa"
      },
      "execution_count": null,
      "outputs": [
        {
          "output_type": "stream",
          "name": "stdout",
          "text": [
            "Enter the old age 9\n",
            "11\n"
          ]
        }
      ]
    },
    {
      "cell_type": "code",
      "source": [
        "#print the sum of two number\n",
        "a=input(\"enter the first number:\")\n",
        "b=input(\"enter the second number:\")\n",
        "sum=a+b\n",
        "print(sum)\n",
        "#here the output is not as expected as here we have not use int function\n",
        "#here we can see the contatitation where one variable is get merged with the 2nd ones"
      ],
      "metadata": {
        "colab": {
          "base_uri": "https://localhost:8080/"
        },
        "id": "pGwQPEmxFyBc",
        "outputId": "c15fa212-4dcc-43d9-cd74-b6fbab78414e"
      },
      "execution_count": null,
      "outputs": [
        {
          "output_type": "stream",
          "name": "stdout",
          "text": [
            "enter the first number:10\n",
            "enter the second number:9\n",
            "109\n"
          ]
        }
      ]
    },
    {
      "cell_type": "code",
      "source": [
        "#here we canot combine the string and int function together in the print\n",
        "\n",
        "a=int(input(\"Enter the first number:\"),);\n",
        "b=int(input(\"Enter the second number:\"),);\n",
        "sum=a+b\n",
        "print(\"The sum is \" + str(sum))"
      ],
      "metadata": {
        "colab": {
          "base_uri": "https://localhost:8080/"
        },
        "id": "HwEQzQ_4G1_B",
        "outputId": "540bdad3-3f8f-4e3b-cbe1-2d9111cbd6e0"
      },
      "execution_count": null,
      "outputs": [
        {
          "output_type": "stream",
          "name": "stdout",
          "text": [
            "Enter the first number:6\n",
            "Enter the second number:6\n",
            "The sum is 12\n"
          ]
        }
      ]
    },
    {
      "cell_type": "code",
      "source": [
        "#strings\n",
        "#the string is used to store the data in it\n",
        "#For string there are many methods from which we can have the change in it\n",
        "#this is upper method which we can use where the vaule inside the string is captial by upper method\n",
        "#same goes with lower\n",
        "Name=(\"roshan jadhav\")\n",
        "Name.upper()\n",
        "print(Name.upper())\n",
        "Name.lower()\n",
        "print(Name.lower())"
      ],
      "metadata": {
        "colab": {
          "base_uri": "https://localhost:8080/"
        },
        "id": "qzkoEGnFJjTa",
        "outputId": "f8fb7f87-c228-4d92-9355-4e8d7f7a1733"
      },
      "execution_count": null,
      "outputs": [
        {
          "output_type": "stream",
          "name": "stdout",
          "text": [
            "ROSHAN JADHAV\n",
            "roshan jadhav\n"
          ]
        }
      ]
    },
    {
      "cell_type": "code",
      "source": [
        "#if we have to find the letter or character in the string then this command is used to to find that\n",
        "name=(\"tytytRgnfvchedhR\")\n",
        "print(name.find(\"f\"))\n",
        "#here the output will be the index number as index starts from 0 1 2 3 4\n",
        "#there will be -1 output where the given task or character is not in the strin\n",
        "#here the space willaslo carry the index number\n",
        "#henece the space in find will also give the out put\n",
        "#index is nothing but the postion of charcheter in the string starting from 0\n",
        "#here we can also find the substring the output will be from first index number\n"
      ],
      "metadata": {
        "colab": {
          "base_uri": "https://localhost:8080/"
        },
        "id": "DEoRtTalNLVx",
        "outputId": "d1e40253-d6db-4214-960f-b42a04da8562"
      },
      "execution_count": null,
      "outputs": [
        {
          "output_type": "stream",
          "name": "stdout",
          "text": [
            "8\n"
          ]
        }
      ]
    },
    {
      "cell_type": "code",
      "source": [
        "a=(\"mita o e\")\n",
        "print(a.find(\" \"))"
      ],
      "metadata": {
        "colab": {
          "base_uri": "https://localhost:8080/"
        },
        "id": "uHUhXox20QRK",
        "outputId": "75d3b009-ede7-4826-f962-a17a02b6a7a6"
      },
      "execution_count": null,
      "outputs": [
        {
          "output_type": "stream",
          "name": "stdout",
          "text": [
            "4\n"
          ]
        }
      ]
    },
    {
      "cell_type": "code",
      "source": [
        "#replace is used tto replace the current string with aanother one replace is denoted by \",\"\n",
        "#here the only a is being replaced by parth as a is in \"\"\n",
        "a=(\"roshan\")\n",
        "print(a.replace(\"a\",\"parth\"))\n"
      ],
      "metadata": {
        "colab": {
          "base_uri": "https://localhost:8080/"
        },
        "id": "J4u4BuS11ELt",
        "outputId": "86cefe3e-2912-4d39-d6f9-e06560f1228a"
      },
      "execution_count": null,
      "outputs": [
        {
          "output_type": "stream",
          "name": "stdout",
          "text": [
            "roshparthn\n"
          ]
        }
      ]
    },
    {
      "cell_type": "code",
      "source": [
        "a=(\"mit\")\n",
        "print(a.replace(a,\"colllge\"))"
      ],
      "metadata": {
        "colab": {
          "base_uri": "https://localhost:8080/"
        },
        "id": "8npZscu83fvH",
        "outputId": "c706e7e9-0c20-43de-9d1e-38c016620278"
      },
      "execution_count": null,
      "outputs": [
        {
          "output_type": "stream",
          "name": "stdout",
          "text": [
            "colllge\n"
          ]
        }
      ]
    },
    {
      "cell_type": "code",
      "source": [
        "#keywords\n",
        "#keywords are being highlighted by various colours\n",
        "#\n",
        "y=\"tiger\"\n",
        "g=\"tigero\"\n",
        "print(g in y)"
      ],
      "metadata": {
        "colab": {
          "base_uri": "https://localhost:8080/"
        },
        "id": "Lp2OEFkQ3jj9",
        "outputId": "3eaf5db1-82ba-4373-f890-5093ffa00b30"
      },
      "execution_count": null,
      "outputs": [
        {
          "output_type": "stream",
          "name": "stdout",
          "text": [
            "False\n"
          ]
        }
      ]
    },
    {
      "cell_type": "code",
      "source": [
        "#arthimetic operators\n",
        "#Here to eliminate the recurring zeros we are using // which gives us output as int\n",
        "#** refers to power of x\n",
        "#% refers to reminder\n",
        "r=(8/4)\n",
        "print(r)\n",
        "\n",
        "t=(7//4)\n",
        "print(t)\n",
        "\n",
        "e=(6**3)\n",
        "print(e)\n",
        "\n",
        "d=(9%4)\n",
        "print(d)\n"
      ],
      "metadata": {
        "colab": {
          "base_uri": "https://localhost:8080/"
        },
        "id": "EVp6W_WU5imM",
        "outputId": "a030bdd5-ab99-469e-d5f6-f302f07ddd45"
      },
      "execution_count": null,
      "outputs": [
        {
          "output_type": "stream",
          "name": "stdout",
          "text": [
            "2.0\n",
            "1\n",
            "216\n",
            "1\n"
          ]
        }
      ]
    },
    {
      "cell_type": "code",
      "source": [
        "#shortcuts in python to calculate\n",
        "c=5\n",
        "c+=9\n",
        "print(c)\n",
        "c-=8\n",
        "print(c)\n",
        "c/=9\n",
        "print(c)\n",
        "c*=4\n",
        "print(c)"
      ],
      "metadata": {
        "colab": {
          "base_uri": "https://localhost:8080/"
        },
        "id": "tY8di3Jl7cPS",
        "outputId": "d577ac35-0b31-47a1-8aa4-0ea6560b655e"
      },
      "execution_count": null,
      "outputs": [
        {
          "output_type": "stream",
          "name": "stdout",
          "text": [
            "14\n",
            "6\n",
            "0.6666666666666666\n",
            "2.6666666666666665\n"
          ]
        }
      ]
    },
    {
      "cell_type": "code",
      "source": [
        "#opretar precedence\n",
        "#here it will follow maths rules as multiplication,division,addition and sub\n",
        "# if bracket is there then priotry will be for the bracket though it consist of add\n",
        "y=6+7-9*9\n",
        "print(y)"
      ],
      "metadata": {
        "colab": {
          "base_uri": "https://localhost:8080/"
        },
        "id": "xrJ6c9Mt8Uay",
        "outputId": "8d046bf1-d2a8-4f54-e18e-53da8dd450e1"
      },
      "execution_count": null,
      "outputs": [
        {
          "output_type": "stream",
          "name": "stdout",
          "text": [
            "-68\n"
          ]
        }
      ]
    },
    {
      "cell_type": "code",
      "source": [
        "#comparession operators\n",
        "#>greater than\n",
        "#<less than\n",
        "#== checks the equality between numbers\n",
        "#!= represents not equal\n"
      ],
      "metadata": {
        "id": "hG_oBQz69ytz"
      },
      "execution_count": null,
      "outputs": []
    },
    {
      "cell_type": "code",
      "source": [
        "#logical operators\n",
        "#or= as compare with two if one of the statement is true it will print true\n",
        "#and = this orpreter gives true out put only if both the statements are true\n",
        "#not = changes the result as true will be false and vice versa\n",
        "#not syntax is not(condtion) for two statements condtion\n"
      ],
      "metadata": {
        "id": "oyVYE5Ye-ruj"
      },
      "execution_count": null,
      "outputs": []
    },
    {
      "cell_type": "code",
      "source": [
        "#if else statement\n",
        "#if else statement is use for condtional statement\n",
        "#if else statement syntax if condtion:\n",
        "y=int(input(\"enter the value\"),);\n",
        "if y>90:\n",
        "  print(\"your are good\")\n",
        "elif y<105:\n",
        "  print(\"your tooo goood\")\n",
        "else:\n",
        "  print(\" your are bad\")"
      ],
      "metadata": {
        "colab": {
          "base_uri": "https://localhost:8080/"
        },
        "id": "BlC5M5Fm_xLp",
        "outputId": "6595ca56-d9bc-43cf-aee9-b139b6e162f7"
      },
      "execution_count": null,
      "outputs": [
        {
          "output_type": "stream",
          "name": "stdout",
          "text": [
            "enter the value80\n",
            "your tooo goood\n"
          ]
        }
      ]
    },
    {
      "cell_type": "code",
      "source": [
        "#create a calculator with logical operator,\n",
        "a=int(input(\"Enter the first number=:\"),);\n",
        "operator=input(\"Enter the operator=(+,-,/,*,%)\")\n",
        "b=int(input(\"Enter the second number=:\"),);\n",
        "if operator==\"+\":\n",
        "   print(a+b)\n",
        "elif operator== \"-\":\n",
        "   print(a-b)\n",
        "elif operator==\"*\":\n",
        "   print(a*b)\n",
        "elif operator==\"/\":\n",
        "   print(a/b)\n",
        "elif operator==\"%\":\n",
        "   print(a%b)\n",
        "else:\n",
        "   print(\"Invalid operation\")\n",
        "\n",
        "\n",
        "\n",
        "\n",
        "\n"
      ],
      "metadata": {
        "id": "8vQZH3c5DIeF",
        "colab": {
          "base_uri": "https://localhost:8080/"
        },
        "outputId": "3eb9e05a-8f03-4489-89cf-d3e0784d3846"
      },
      "execution_count": null,
      "outputs": [
        {
          "output_type": "stream",
          "name": "stdout",
          "text": [
            "Enter the first number=:6\n",
            "Enter the operator=(+,-,/,*,%)/\n",
            "Enter the second number=:3\n",
            "2.0\n"
          ]
        }
      ]
    },
    {
      "cell_type": "code",
      "source": [
        "#create a calculator with logical operator,\n",
        "a=int(input(\"Enter the first number=:\"),);\n",
        "operator=input(\"Enter the operator=(+,-,/,*,%)\")\n",
        "b=int(input(\"Enter the second number=:\"),);\n",
        "if operator==\"+\":\n",
        "   print(a+b)\n",
        "elif operator== \"-\":\n",
        "   print(a-b)\n",
        "elif operator==\"*\":\n",
        "   print(a*b)\n",
        "elif operator==\"/\":\n",
        "   print(a/b)\n",
        "elif operator==\"%\":\n",
        "   print(a%b)\n",
        "else:\n",
        "   print(\"Invalid operation\")\n",
        "\n",
        "\n",
        "\n"
      ],
      "metadata": {
        "id": "HRWyMFuENoep"
      },
      "execution_count": null,
      "outputs": []
    },
    {
      "cell_type": "code",
      "source": [],
      "metadata": {
        "id": "kj8OlW62CrY7"
      },
      "execution_count": null,
      "outputs": []
    },
    {
      "cell_type": "code",
      "execution_count": null,
      "metadata": {
        "colab": {
          "base_uri": "https://localhost:8080/",
          "height": 452
        },
        "id": "C4HZx7Gndbrh",
        "outputId": "cb61a5e5-2be8-4347-a950-92b02fc25cdd"
      },
      "outputs": [
        {
          "output_type": "display_data",
          "data": {
            "text/plain": [
              "<Figure size 640x480 with 1 Axes>"
            ],
            "image/png": "[encoded data removed]"
          },
          "metadata": {}
        }
      ],
      "source": [
        "import numpy as np\n",
        "from matplotlib import pyplot as plt\n",
        "\n",
        "ys = 200 + np.random.randn(100)\n",
        "x = [x for x in range(len(ys))]\n",
        "\n",
        "plt.plot(x, ys, '-')\n",
        "plt.fill_between(x, ys, 195, where=(ys > 195), facecolor='g', alpha=0.6)\n",
        "\n",
        "plt.title(\"Sample Visualization\")\n",
        "plt.show()"
      ]
    },
    {
      "cell_type": "code",
      "execution_count": null,
      "metadata": {
        "colab": {
          "base_uri": "https://localhost:8080/"
        },
        "id": "pecgOfkj2wu6",
        "outputId": "0c753355-b8f0-44dc-d08d-645006c7ad80"
      },
      "outputs": [
        {
          "output_type": "stream",
          "name": "stdout",
          "text": [
            "Enter the Residential address:a\n",
            "I live in a\n",
            "Enter the Residential address:a\n",
            "I live in a\n"
          ]
        }
      ],
      "source": [
        "a=input('Enter the Residential address:')\n",
        "print(\"I live in\",a,)\n",
        "a=input('Enter the Residential address:')\n",
        "print(\"I live in\",a,)\n"
      ]
    },
    {
      "cell_type": "code",
      "execution_count": null,
      "metadata": {
        "colab": {
          "base_uri": "https://localhost:8080/"
        },
        "id": "VU3Puc_--Z8B",
        "outputId": "b8ef8fe1-a218-4abd-c79b-144b1edfdfcf"
      },
      "outputs": [
        {
          "output_type": "stream",
          "name": "stdout",
          "text": [
            "PLACE\n",
            "I live in PLACE\n"
          ]
        }
      ],
      "source": [
        "place=input('')\n",
        "print(\"I live in\",place,)"
      ]
    },
    {
      "cell_type": "code",
      "execution_count": null,
      "metadata": {
        "colab": {
          "base_uri": "https://localhost:8080/"
        },
        "id": "nr6yYHCObeEz",
        "outputId": "0121e4d9-72d9-469f-964b-6a2da3440e70"
      },
      "outputs": [
        {
          "output_type": "stream",
          "name": "stdout",
          "text": [
            "1\n",
            "2\n",
            "3\n",
            "4\n",
            "5\n",
            "6\n",
            "7\n",
            "8\n",
            "9\n",
            "10\n"
          ]
        }
      ],
      "source": [
        "for i in range(1, 11):\n",
        "    print(i)\n"
      ]
    },
    {
      "cell_type": "code",
      "execution_count": null,
      "metadata": {
        "colab": {
          "base_uri": "https://localhost:8080/"
        },
        "id": "jE_VGyvbcFJE",
        "outputId": "a8637bfa-745b-465b-f701-5b73d8dc8235"
      },
      "outputs": [
        {
          "output_type": "stream",
          "name": "stdout",
          "text": [
            "51\n",
            "50\n",
            "49\n",
            "48\n",
            "47\n",
            "46\n",
            "45\n",
            "44\n",
            "43\n",
            "42\n",
            "41\n",
            "40\n",
            "39\n",
            "38\n",
            "37\n",
            "36\n",
            "35\n",
            "34\n",
            "33\n",
            "32\n",
            "31\n",
            "30\n",
            "29\n",
            "28\n",
            "27\n",
            "26\n",
            "25\n",
            "24\n",
            "23\n",
            "22\n",
            "21\n",
            "20\n",
            "19\n",
            "18\n",
            "17\n",
            "16\n",
            "15\n",
            "14\n",
            "13\n",
            "12\n",
            "11\n"
          ]
        }
      ],
      "source": [
        "for i in range(51,10,-1):\n",
        "    print(i)\n"
      ]
    },
    {
      "cell_type": "code",
      "execution_count": null,
      "metadata": {
        "colab": {
          "base_uri": "https://localhost:8080/"
        },
        "id": "96XfkhukdSzl",
        "outputId": "ec9ff4ef-fce6-4c0b-9215-d8bfce6e180c"
      },
      "outputs": [
        {
          "output_type": "stream",
          "name": "stdout",
          "text": [
            "-90\n",
            "-91\n",
            "-92\n",
            "-93\n",
            "-94\n",
            "-95\n",
            "-96\n",
            "-97\n",
            "-98\n",
            "-99\n",
            "-100\n",
            "-101\n",
            "-102\n",
            "-103\n",
            "-104\n",
            "-105\n",
            "-106\n",
            "-107\n",
            "-108\n",
            "-109\n",
            "-110\n",
            "-111\n",
            "-112\n",
            "-113\n",
            "-114\n",
            "-115\n",
            "-116\n",
            "-117\n",
            "-118\n"
          ]
        }
      ],
      "source": [
        "for b in range(-90,-119,-1):\n",
        "    print(b)"
      ]
    },
    {
      "cell_type": "markdown",
      "metadata": {
        "id": "mEjjANO2e_g8"
      },
      "source": [
        "creata a variable and add 3 to ***it"
      ]
    },
    {
      "cell_type": "code",
      "execution_count": null,
      "metadata": {
        "colab": {
          "base_uri": "https://localhost:8080/"
        },
        "id": "hkB0xP02eVWL",
        "outputId": "84717fd8-ff6a-4a58-a3a8-505406c29048"
      },
      "outputs": [
        {
          "name": "stdout",
          "output_type": "stream",
          "text": [
            "8\n"
          ]
        }
      ],
      "source": [
        "x=5\n",
        "b=x+3\n",
        "print(b)"
      ]
    },
    {
      "cell_type": "markdown",
      "metadata": {
        "id": "v661iJHCfRtj"
      },
      "source": [
        "**create one variable x apply all the arthematic operations on that variable**"
      ]
    },
    {
      "cell_type": "markdown",
      "metadata": {
        "id": "F9ko1gjHfk4S"
      },
      "source": []
    },
    {
      "cell_type": "code",
      "execution_count": null,
      "metadata": {
        "colab": {
          "base_uri": "https://localhost:8080/"
        },
        "id": "BLhdaKDDgCsd",
        "outputId": "8f60cfa8-e951-4119-e975-be062022285d"
      },
      "outputs": [
        {
          "output_type": "stream",
          "name": "stdout",
          "text": [
            "True\n"
          ]
        }
      ],
      "source": [
        "x=(6)\n",
        "print(x>5 and x<10)\n",
        "\n",
        "\n",
        "\n"
      ]
    },
    {
      "cell_type": "code",
      "execution_count": null,
      "metadata": {
        "colab": {
          "base_uri": "https://localhost:8080/"
        },
        "id": "YygszMzOjHmi",
        "outputId": "6983f250-f5b5-4f21-e2c8-5a08bc32e087"
      },
      "outputs": [
        {
          "name": "stdout",
          "output_type": "stream",
          "text": [
            "True\n",
            "False\n"
          ]
        }
      ],
      "source": [
        "x=[\"roshan\",\"Aniket\"]\n",
        "y=[\"roshan\",\"Aniket\"]\n",
        "z=x\n",
        "y=z\n",
        "print(x is z)\n",
        "print(x is y)"
      ]
    },
    {
      "cell_type": "markdown",
      "metadata": {
        "id": "gMQF1iiskggL"
      },
      "source": [
        "***create the list of examples to showcase the execution of bitwise operater***\n",
        "\n",
        "\n"
      ]
    },
    {
      "cell_type": "markdown",
      "metadata": {
        "id": "iAN5WI0llfXZ"
      },
      "source": [
        "binary representation of"
      ]
    },
    {
      "cell_type": "code",
      "execution_count": null,
      "metadata": {
        "id": "ixPR-97vlekm"
      },
      "outputs": [],
      "source": []
    },
    {
      "cell_type": "code",
      "execution_count": null,
      "metadata": {
        "colab": {
          "base_uri": "https://localhost:8080/"
        },
        "id": "kZMVDF-Mkuv0",
        "outputId": "8631e455-c4a8-4f1b-ba19-5b79dfbc320a"
      },
      "outputs": [
        {
          "name": "stdout",
          "output_type": "stream",
          "text": [
            "12\n"
          ]
        }
      ],
      "source": [
        "print(3<<2)"
      ]
    },
    {
      "cell_type": "code",
      "execution_count": null,
      "metadata": {
        "colab": {
          "base_uri": "https://localhost:8080/"
        },
        "id": "oR75X5JXlJmZ",
        "outputId": "acb80e4d-1697-4ebe-d2c4-64e5527371d6"
      },
      "outputs": [
        {
          "name": "stdout",
          "output_type": "stream",
          "text": [
            "0\n"
          ]
        }
      ],
      "source": [
        "print(3>>2)"
      ]
    },
    {
      "cell_type": "code",
      "execution_count": null,
      "metadata": {
        "colab": {
          "base_uri": "https://localhost:8080/"
        },
        "id": "CJkHItP4lwbC",
        "outputId": "33dc7aa1-2c79-414a-c95f-0b682c903af8"
      },
      "outputs": [
        {
          "name": "stdout",
          "output_type": "stream",
          "text": [
            "0\n"
          ]
        }
      ],
      "source": [
        "print((8+8)-(8+8))"
      ]
    },
    {
      "cell_type": "code",
      "execution_count": null,
      "metadata": {
        "colab": {
          "base_uri": "https://localhost:8080/"
        },
        "id": "7LMnkhEnmT6i",
        "outputId": "850e072c-8255-424a-98a8-dec2ca4b4cfd"
      },
      "outputs": [
        {
          "name": "stdout",
          "output_type": "stream",
          "text": [
            "115\n"
          ]
        }
      ],
      "source": [
        "print(100+5*3)"
      ]
    },
    {
      "cell_type": "markdown",
      "metadata": {
        "id": "TjQbMxK1mma1"
      },
      "source": [
        "data types in python\n",
        "data type is of two types numerical data and sequence data\n",
        "list is important data type in python\n",
        "numerical= float int complex\n",
        "sequence data=list tupple range mapping dictionary sets\n",
        "\n",
        "\n",
        "\n"
      ]
    },
    {
      "cell_type": "code",
      "execution_count": null,
      "metadata": {
        "id": "ZpP9qrGroDYc"
      },
      "outputs": [],
      "source": [
        "create a variable and find its type"
      ]
    },
    {
      "cell_type": "code",
      "execution_count": null,
      "metadata": {
        "colab": {
          "base_uri": "https://localhost:8080/"
        },
        "id": "hF2poScVmepC",
        "outputId": "09e81f13-6b41-47ec-9a2a-3cc3172835f3"
      },
      "outputs": [
        {
          "data": {
            "text/plain": [
              "int"
            ]
          },
          "execution_count": 59,
          "metadata": {},
          "output_type": "execute_result"
        }
      ],
      "source": [
        "\n",
        "x=125\n",
        "type(x)\n"
      ]
    },
    {
      "cell_type": "code",
      "execution_count": null,
      "metadata": {
        "colab": {
          "base_uri": "https://localhost:8080/"
        },
        "id": "iD8kg7I3oq4i",
        "outputId": "7ed9f508-b5f4-4cbf-c1d4-32a32f61b64b"
      },
      "outputs": [
        {
          "data": {
            "text/plain": [
              "str"
            ]
          },
          "execution_count": 61,
          "metadata": {},
          "output_type": "execute_result"
        }
      ],
      "source": [
        "\n",
        "x=(\"roshan\")\n",
        "type(x)\n"
      ]
    },
    {
      "cell_type": "code",
      "execution_count": null,
      "metadata": {
        "colab": {
          "base_uri": "https://localhost:8080/"
        },
        "id": "XqvT5NxZovOh",
        "outputId": "52fccce1-a0fe-4111-b9d8-8efd22e743f4"
      },
      "outputs": [
        {
          "data": {
            "text/plain": [
              "float"
            ]
          },
          "execution_count": 62,
          "metadata": {},
          "output_type": "execute_result"
        }
      ],
      "source": [
        "x=(10.2)\n",
        "type(x)"
      ]
    },
    {
      "cell_type": "code",
      "execution_count": null,
      "metadata": {
        "colab": {
          "base_uri": "https://localhost:8080/"
        },
        "id": "tOj8pIQ4o4Rp",
        "outputId": "3a40b1bf-27ea-4540-d650-50b34966bce1"
      },
      "outputs": [
        {
          "data": {
            "text/plain": [
              "complex"
            ]
          },
          "execution_count": 63,
          "metadata": {},
          "output_type": "execute_result"
        }
      ],
      "source": [
        "x=(2j)\n",
        "type(x)"
      ]
    },
    {
      "cell_type": "markdown",
      "metadata": {
        "id": "_HjYhI5VpiYa"
      },
      "source": [
        "list is always denoted by square brackets"
      ]
    },
    {
      "cell_type": "code",
      "execution_count": null,
      "metadata": {
        "colab": {
          "base_uri": "https://localhost:8080/"
        },
        "id": "isbMKZtNpDQx",
        "outputId": "54369da1-39a7-4c98-e8af-d3fe56ca5be7"
      },
      "outputs": [
        {
          "data": {
            "text/plain": [
              "list"
            ]
          },
          "execution_count": 67,
          "metadata": {},
          "output_type": "execute_result"
        }
      ],
      "source": [
        "x=[\"10\"\"Study\"\"2l\"\"10.2\"]\n",
        "type(x)"
      ]
    },
    {
      "cell_type": "markdown",
      "metadata": {
        "id": "d3lRT95VpsAg"
      },
      "source": [
        "create three variable such that x=10 y=2.8 z=2h"
      ]
    },
    {
      "cell_type": "code",
      "execution_count": null,
      "metadata": {
        "colab": {
          "base_uri": "https://localhost:8080/"
        },
        "id": "aN33NZMWprmZ",
        "outputId": "987466f9-b505-4b16-e5ee-b6c0ff1c3477"
      },
      "outputs": [
        {
          "name": "stdout",
          "output_type": "stream",
          "text": [
            "10.0\n",
            "2\n",
            "(10+0j)\n"
          ]
        }
      ],
      "source": [
        "x=(10)\n",
        "y=(2.8)\n",
        "z=(2j)\n",
        "a=float(x)\n",
        "b=int(y)\n",
        "c=complex(x)\n",
        "print(a)\n",
        "print(b)\n",
        "print(c)"
      ]
    },
    {
      "cell_type": "code",
      "execution_count": null,
      "metadata": {
        "colab": {
          "base_uri": "https://localhost:8080/"
        },
        "id": "-szFeZMNrF9E",
        "outputId": "b3e7dc14-5431-49be-e269-3a57dba05d66"
      },
      "outputs": [
        {
          "name": "stdout",
          "output_type": "stream",
          "text": [
            "l\n"
          ]
        }
      ],
      "source": [
        "a=(\"hello world\")\n",
        "print(a[3])"
      ]
    },
    {
      "cell_type": "code",
      "execution_count": null,
      "metadata": {
        "colab": {
          "base_uri": "https://localhost:8080/"
        },
        "id": "WDknqooqrXTx",
        "outputId": "53d8ddcb-e4ab-4801-eb72-25a938b1e077"
      },
      "outputs": [
        {
          "name": "stdout",
          "output_type": "stream",
          "text": [
            "h 5 a\n"
          ]
        }
      ],
      "source": [
        "a=(\"roshan_and_aniket\")\n",
        "b=(\"Anike5\")\n",
        "print(a[3],b[5],a[7])"
      ]
    },
    {
      "cell_type": "markdown",
      "metadata": {
        "id": "uHt599hmtE4i"
      },
      "source": [
        "syntax for iterator_var in sequence;\n",
        "statements(s)\n"
      ]
    },
    {
      "cell_type": "markdown",
      "metadata": {
        "id": "uxdaouvQte4x"
      },
      "source": [
        "create the list of the seasons using for loop"
      ]
    },
    {
      "cell_type": "code",
      "execution_count": null,
      "metadata": {
        "colab": {
          "background_save": true,
          "base_uri": "https://localhost:8080/",
          "height": 130
        },
        "id": "Dt51iZc6tvDt",
        "outputId": "dd01f871-815a-4970-f76d-856da24d9ced"
      },
      "outputs": [
        {
          "name": "stdout",
          "output_type": "stream",
          "text": [
            "summer\n",
            "Mansoon\n",
            "winter\n"
          ]
        }
      ],
      "source": [
        "a=[\"summer\",\"Mansoon\",\"winter\"]\n",
        "f\n",
        "   print(i)"
      ]
    },
    {
      "cell_type": "code",
      "execution_count": null,
      "metadata": {
        "colab": {
          "base_uri": "https://localhost:8080/",
          "height": 430
        },
        "id": "TxqWqHa4C-Kn",
        "outputId": "13d2f7a0-76e9-4011-ad74-da78286e5e15"
      },
      "outputs": [
        {
          "output_type": "display_data",
          "data": {
            "text/plain": [
              "<Figure size 640x480 with 1 Axes>"
            ],
            "image/png": "[encoded data removed]"
          },
          "metadata": {}
        }
      ],
      "source": [
        "import matplotlib.pyplot as plt\n",
        "import numpy as np\n",
        "xpoints=np.array([0,60])\n",
        "ypoints=np.array([0,250])\n",
        "plt.plot(xpoints,ypoints)\n",
        "plt.show()"
      ]
    },
    {
      "cell_type": "code",
      "source": [
        "year=[2021,2022,2023,2024,2025,2026]\n",
        "a_roshan=[78,84,86,89,91,94]\n",
        "a_aniket=[60,95,32,96,98,87]\n",
        "plt.plot(year, a_roshan, color ='blue',\n",
        "         label='roshan')\n",
        "plt.plot(year,a_aniket,color='red',\n",
        "         label='aniket')\n",
        "plt.xlabel(\"years\")\n",
        "plt.ylabel('Marks')\n",
        "plt.title('Comparision of marks')\n",
        "plt.legend()\n",
        "plt.show()"
      ],
      "metadata": {
        "colab": {
          "base_uri": "https://localhost:8080/",
          "height": 472
        },
        "id": "9OdRR0-GOKJi",
        "outputId": "dd16987e-24aa-4f56-f9b6-e3da9f6cde86"
      },
      "execution_count": null,
      "outputs": [
        {
          "output_type": "display_data",
          "data": {
            "text/plain": [
              "<Figure size 640x480 with 1 Axes>"
            ],
            "image/png": "[encoded data removed]"
          },
          "metadata": {}
        }
      ]
    },
    {
      "cell_type": "code",
      "source": [
        "import matplotlib.pyplot as plt\n",
        "x=[1,2,3]\n",
        "y=[4,5,6]\n",
        "z=[7,8,9]\n",
        "fig, ax=plt.subplots(2)\n",
        "ax[0].plot(x,y)\n",
        "ax[1].plot(y,z)\n"
      ],
      "metadata": {
        "colab": {
          "base_uri": "https://localhost:8080/",
          "height": 447
        },
        "id": "658mjtm4TF_7",
        "outputId": "637157ef-8bc4-4bca-87d0-e240995284ec"
      },
      "execution_count": null,
      "outputs": [
        {
          "output_type": "execute_result",
          "data": {
            "text/plain": [
              "[<matplotlib.lines.Line2D at 0x7f7e6f410340>]"
            ]
          },
          "metadata": {},
          "execution_count": 26
        },
        {
          "output_type": "display_data",
          "data": {
            "text/plain": [
              "<Figure size 640x480 with 2 Axes>"
            ],
            "image/png": "[encoded data removed]"
          },
          "metadata": {}
        }
      ]
    },
    {
      "cell_type": "code",
      "source": [
        "import matplotlib.pyplot as plt\n",
        "import numpy as np\n",
        "x=np.arange(0.0,1.0,0.1)\n",
        "y1=1+np.cos(2*np.pi*x)\n",
        "y2=1+np.sin(2*np.pi*x)\n",
        "fig, ((ax1,ax2),(ax3,ax4),(ax5,ax6))=plt.subplots(3,2)\n",
        "ax1.plot(x,y,color=\"orange\")\n",
        "ax2.plot(x,y,color=\"blue\")\n",
        "ax3.plot(x,y,color=\"green\")\n",
        "ax4.plot(x,y,color=\"red\")\n",
        "ax5.plot(x,y,color=\"black\")\n",
        "ax6.plot(x,y,color=\"yellow\")\n",
        "ax1.plot(y2,color=\"orange\")\n",
        "ax2.plot(y2,color=\"blue\")\n",
        "ax3.plot(y2,color=\"green\")\n",
        "ax4.plot(y2,color=\"red\")\n",
        "ax5.plot(y2,color=\"black\")\n",
        "ax6.plot(y2,color=\"yellow\")\n"
      ],
      "metadata": {
        "colab": {
          "base_uri": "https://localhost:8080/",
          "height": 447
        },
        "id": "MK221zdgU5rT",
        "outputId": "19920306-98d0-41e5-c835-bc85a10220cd"
      },
      "execution_count": null,
      "outputs": [
        {
          "output_type": "execute_result",
          "data": {
            "text/plain": [
              "[<matplotlib.lines.Line2D at 0x7f7e6e00b5e0>]"
            ]
          },
          "metadata": {},
          "execution_count": 38
        },
        {
          "output_type": "display_data",
          "data": {
            "text/plain": [
              "<Figure size 640x480 with 6 Axes>"
            ],
            "image/png": "[encoded data removed]"
          },
          "metadata": {}
        }
      ]
    },
    {
      "cell_type": "code",
      "source": [
        "import matplotlib.pyplot as plt\n",
        "import numpy as np\n",
        "x=np.arange(0.0,1.0,0.1)\n",
        "y=1+np.cos(2*np.pi*x)\n",
        "fig, ((ax1,ax2),(ax3,ax4),(ax5,ax6))=plt.subplots(3,2)\n",
        "ax1.plot(x,y,color=\"orange\")\n",
        "ax2.plot(x,y,color=\"blue\")\n",
        "ax3.plot(x,y,color=\"green\")\n",
        "ax4.plot(x,y,color=\"red\")\n",
        "ax5.plot(x,y,color=\"black\")\n",
        "ax6.plot(x,y,color=\"yellow\")\n"
      ],
      "metadata": {
        "colab": {
          "base_uri": "https://localhost:8080/",
          "height": 447
        },
        "id": "Xf9UwXJ4WjEs",
        "outputId": "abcaf688-75a8-45de-a338-db0b09f5ceec"
      },
      "execution_count": null,
      "outputs": [
        {
          "output_type": "execute_result",
          "data": {
            "text/plain": [
              "[<matplotlib.lines.Line2D at 0x7f7e6e4d71c0>]"
            ]
          },
          "metadata": {},
          "execution_count": 35
        },
        {
          "output_type": "display_data",
          "data": {
            "text/plain": [
              "<Figure size 640x480 with 6 Axes>"
            ],
            "image/png": "[encoded data removed]"
          },
          "metadata": {}
        }
      ]
    },
    {
      "cell_type": "code",
      "source": [],
      "metadata": {
        "id": "VcPEgDK20IsM"
      },
      "execution_count": null,
      "outputs": []
    },
    {
      "cell_type": "code",
      "source": [],
      "metadata": {
        "id": "clggO1Aq0szj"
      },
      "execution_count": null,
      "outputs": []
    },
    {
      "cell_type": "code",
      "source": [
        "import numpy as np\n",
        "np.zeros(10)\n"
      ],
      "metadata": {
        "id": "V6Hk6cau7OPX",
        "colab": {
          "base_uri": "https://localhost:8080/"
        },
        "outputId": "5dcd829e-6d8b-4de2-e590-30e596e4813c"
      },
      "execution_count": null,
      "outputs": [
        {
          "output_type": "execute_result",
          "data": {
            "text/plain": [
              "array([0., 0., 0., 0., 0., 0., 0., 0., 0., 0.])"
            ]
          },
          "metadata": {},
          "execution_count": 3
        }
      ]
    },
    {
      "cell_type": "code",
      "execution_count": null,
      "metadata": {
        "id": "EYoAxEfD5-pz",
        "colab": {
          "base_uri": "https://localhost:8080/"
        },
        "outputId": "bbcdf416-385b-441d-c65f-09e22b4df4ee"
      },
      "outputs": [
        {
          "output_type": "execute_result",
          "data": {
            "text/plain": [
              "array([1., 1., 1., 1., 1., 1., 1., 1., 1., 1.])"
            ]
          },
          "metadata": {},
          "execution_count": 4
        }
      ],
      "source": [
        "import numpy as np\n",
        "np.ones(10)"
      ]
    },
    {
      "cell_type": "code",
      "source": [
        "import numpy as np\n",
        "np.full(10,5)"
      ],
      "metadata": {
        "colab": {
          "base_uri": "https://localhost:8080/"
        },
        "id": "b1_xDba-9NX_",
        "outputId": "d3d1f268-1cd3-4c10-e4bb-2fa4791f51c0"
      },
      "execution_count": null,
      "outputs": [
        {
          "output_type": "execute_result",
          "data": {
            "text/plain": [
              "array([5, 5, 5, 5, 5, 5, 5, 5, 5, 5])"
            ]
          },
          "metadata": {},
          "execution_count": 7
        }
      ]
    },
    {
      "cell_type": "code",
      "source": [
        "import numpy as np\n",
        "np.arange(10,51)"
      ],
      "metadata": {
        "colab": {
          "base_uri": "https://localhost:8080/"
        },
        "id": "cY89U2l69hIb",
        "outputId": "01ee9840-0705-424d-91cb-1dd1ad93a732"
      },
      "execution_count": null,
      "outputs": [
        {
          "output_type": "execute_result",
          "data": {
            "text/plain": [
              "array([10, 11, 12, 13, 14, 15, 16, 17, 18, 19, 20, 21, 22, 23, 24, 25, 26,\n",
              "       27, 28, 29, 30, 31, 32, 33, 34, 35, 36, 37, 38, 39, 40, 41, 42, 43,\n",
              "       44, 45, 46, 47, 48, 49, 50])"
            ]
          },
          "metadata": {},
          "execution_count": 11
        }
      ]
    },
    {
      "cell_type": "code",
      "source": [
        "import numpy as np\n",
        "np.arange(10,51,2)"
      ],
      "metadata": {
        "colab": {
          "base_uri": "https://localhost:8080/"
        },
        "id": "SN8wWFuF-IP-",
        "outputId": "f1dad20a-b3a2-4850-a7d5-dc50f1f3a44a"
      },
      "execution_count": null,
      "outputs": [
        {
          "output_type": "execute_result",
          "data": {
            "text/plain": [
              "array([10, 12, 14, 16, 18, 20, 22, 24, 26, 28, 30, 32, 34, 36, 38, 40, 42,\n",
              "       44, 46, 48, 50])"
            ]
          },
          "metadata": {},
          "execution_count": 13
        }
      ]
    },
    {
      "cell_type": "code",
      "source": [
        "my_list=([0,1,2],[3,4,5],[6,7,8])\n",
        "np.array(my_list)\n",
        "print(np.array(my_list))"
      ],
      "metadata": {
        "colab": {
          "base_uri": "https://localhost:8080/"
        },
        "id": "My2IdN4T-qYm",
        "outputId": "a7ee2ccc-0d07-4d40-8f15-273fefbf8a60"
      },
      "execution_count": null,
      "outputs": [
        {
          "output_type": "stream",
          "name": "stdout",
          "text": [
            "[[0 1 2]\n",
            " [3 4 5]\n",
            " [6 7 8]]\n"
          ]
        }
      ]
    },
    {
      "cell_type": "code",
      "source": [
        "my_list=([1.,0.,0.],[0.,1.,0.],[0.,0.,1.])\n",
        "np.array(my_list)\n",
        "print(np.array(my_list))"
      ],
      "metadata": {
        "colab": {
          "base_uri": "https://localhost:8080/"
        },
        "id": "R5xrGoU__qaV",
        "outputId": "2c1079d4-0df0-4d4a-b4f9-ed86d80bc0d2"
      },
      "execution_count": null,
      "outputs": [
        {
          "output_type": "stream",
          "name": "stdout",
          "text": [
            "[[1. 0. 0.]\n",
            " [0. 1. 0.]\n",
            " [0. 0. 1.]]\n"
          ]
        }
      ]
    },
    {
      "cell_type": "code",
      "source": [],
      "metadata": {
        "id": "UEBHVF8207yX"
      },
      "execution_count": null,
      "outputs": []
    },
    {
      "cell_type": "code",
      "execution_count": null,
      "metadata": {
        "collapsed": true,
        "id": "-UENaLGY79Qf"
      },
      "outputs": [],
      "source": [
        "# WRITE CODE HERE THAT REPRODUCES THE OUTPUT OF THE CELL BELOW\n",
        "# BE CAREFUL NOT TO RUN THE CELL BELOW, OTHERWISE YOU WON'T\n",
        "# BE ABLE TO SEE THE OUTPUT ANY MORE"
      ]
    },
    {
      "cell_type": "code",
      "execution_count": null,
      "metadata": {
        "id": "NwFQ2lMv79Qf"
      },
      "outputs": [],
      "source": []
    },
    {
      "cell_type": "code",
      "execution_count": null,
      "metadata": {
        "collapsed": true,
        "id": "mJ0wOILo79Qf"
      },
      "outputs": [],
      "source": [
        "# WRITE CODE HERE THAT REPRODUCES THE OUTPUT OF THE CELL BELOW\n",
        "# BE CAREFUL NOT TO RUN THE CELL BELOW, OTHERWISE YOU WON'T\n",
        "# BE ABLE TO SEE THE OUTPUT ANY MORE"
      ]
    },
    {
      "cell_type": "code",
      "execution_count": null,
      "metadata": {
        "collapsed": true,
        "id": "U_RjO0XW79Qg"
      },
      "outputs": [],
      "source": [
        "# WRITE CODE HERE THAT REPRODUCES THE OUTPUT OF THE CELL BELOW\n",
        "# BE CAREFUL NOT TO RUN THE CELL BELOW, OTHERWISE YOU WON'T\n",
        "# BE ABLE TO SEE THE OUTPUT ANY MORE"
      ]
    },
    {
      "cell_type": "markdown",
      "metadata": {
        "id": "ypUkL2_079Qg"
      },
      "source": [
        "### Now do the following"
      ]
    },
    {
      "cell_type": "markdown",
      "metadata": {
        "id": "mVTNGKcd79Qg"
      },
      "source": [
        "#### Get the sum of all the values in mat"
      ]
    },
    {
      "cell_type": "code",
      "execution_count": null,
      "metadata": {
        "id": "bMZj56qe79Qj",
        "outputId": "0b2dec4e-681b-4e1d-bbdb-9454a8b78c3d"
      },
      "outputs": [
        {
          "data": {
            "text/plain": [
              "325"
            ]
          },
          "execution_count": 50,
          "metadata": {},
          "output_type": "execute_result"
        }
      ],
      "source": []
    },
    {
      "cell_type": "markdown",
      "metadata": {
        "id": "6LahQLXd79Qj"
      },
      "source": [
        "#### Get the standard deviation of the values in mat"
      ]
    },
    {
      "cell_type": "code",
      "execution_count": null,
      "metadata": {
        "id": "myA5Abqa79Qj",
        "outputId": "faaeb8b8-a7a0-42e6-b4ad-bd8aebb4253a",
        "colab": {
          "base_uri": "https://localhost:8080/"
        }
      },
      "outputs": [
        {
          "output_type": "stream",
          "name": "stdout",
          "text": [
            "11.0\n",
            "11.0\n",
            "4.898979485566356\n"
          ]
        }
      ],
      "source": [
        "arr1=np.array([7,11,13,19,5,])\n",
        "p=np.mean(arr1)\n",
        "d=np.median(arr1)\n",
        "c=np.std(arr1)\n",
        "print(p)\n",
        "print(d)\n",
        "print(c)\n",
        "\n"
      ]
    },
    {
      "cell_type": "code",
      "source": [
        "#num py\n",
        "#real time application\n",
        "#its is used in image as it scaled down\n",
        "#its pixles are nothing but its smallest value\n",
        "import numpy as np\n",
        "mylist=[[1,2,3],[4,5,6],[7,8,9],[10,11,12,],[13,14,15]]\n",
        "np.array(mylist)\n",
        "print(mylist)\n",
        "print(type(mylist))\n",
        "print(np.array(mylist))\n",
        "print(type(np.array(mylist)))\n",
        "\n"
      ],
      "metadata": {
        "colab": {
          "base_uri": "https://localhost:8080/"
        },
        "id": "Oi87x1iknNEE",
        "outputId": "97d342a7-fd93-4ea0-c700-0fff38acf568"
      },
      "execution_count": null,
      "outputs": [
        {
          "output_type": "stream",
          "name": "stdout",
          "text": [
            "[[1, 2, 3], [4, 5, 6], [7, 8, 9], [10, 11, 12], [13, 14, 15]]\n",
            "<class 'list'>\n",
            "[[ 1  2  3]\n",
            " [ 4  5  6]\n",
            " [ 7  8  9]\n",
            " [10 11 12]\n",
            " [13 14 15]]\n",
            "<class 'numpy.ndarray'>\n"
          ]
        }
      ]
    },
    {
      "cell_type": "code",
      "source": [
        " #basic difference between range and arange is range function take only numbe\n",
        "mylist=[1,2,3,4,5,6,7,8,9,10]\n",
        "for i in  range(0,11):\n",
        "    print(i)\n",
        "import numpy as np\n",
        "arr1=np.arange(1,5.5,0.5)\n",
        "print(arr1)"
      ],
      "metadata": {
        "colab": {
          "base_uri": "https://localhost:8080/"
        },
        "id": "FK7oraAepzuF",
        "outputId": "ee9b6e1f-c7b9-4f89-e9aa-9d6a857ce456"
      },
      "execution_count": null,
      "outputs": [
        {
          "output_type": "stream",
          "name": "stdout",
          "text": [
            "0\n",
            "1\n",
            "2\n",
            "3\n",
            "4\n",
            "5\n",
            "6\n",
            "7\n",
            "8\n",
            "9\n",
            "10\n",
            "[1.  1.5 2.  2.5 3.  3.5 4.  4.5 5. ]\n"
          ]
        }
      ]
    },
    {
      "cell_type": "code",
      "source": [
        "\n",
        "np.random.rand(5)\n"
      ],
      "metadata": {
        "colab": {
          "base_uri": "https://localhost:8080/"
        },
        "id": "T5jPFRxwxgql",
        "outputId": "53e588db-a2fb-46a3-90f7-3f5dcb22a413"
      },
      "execution_count": null,
      "outputs": [
        {
          "output_type": "execute_result",
          "data": {
            "text/plain": [
              "array([0.42693936, 0.53232675, 0.20192556, 0.48575621, 0.27712158])"
            ]
          },
          "metadata": {},
          "execution_count": 31
        }
      ]
    },
    {
      "cell_type": "code",
      "source": [
        "np.random.rand(3,2)\n"
      ],
      "metadata": {
        "colab": {
          "base_uri": "https://localhost:8080/"
        },
        "id": "y0bwtruz1jnE",
        "outputId": "6d3c9b2a-f80b-403e-a862-30d36b70879f"
      },
      "execution_count": null,
      "outputs": [
        {
          "output_type": "execute_result",
          "data": {
            "text/plain": [
              "array([[0.73826179, 0.46833966],\n",
              "       [0.96025758, 0.27473039],\n",
              "       [0.71662748, 0.06947129]])"
            ]
          },
          "metadata": {},
          "execution_count": 33
        }
      ]
    },
    {
      "cell_type": "code",
      "source": [
        "np.random.randn(5)\n"
      ],
      "metadata": {
        "colab": {
          "base_uri": "https://localhost:8080/"
        },
        "id": "isdEpAjX1l6j",
        "outputId": "fdd0ec46-4a9c-4027-91d3-6b54a49815b5"
      },
      "execution_count": null,
      "outputs": [
        {
          "output_type": "execute_result",
          "data": {
            "text/plain": [
              "array([ 1.4549471 , -1.67594025, -0.80336376, -0.5574455 , -0.08606732])"
            ]
          },
          "metadata": {},
          "execution_count": 37
        }
      ]
    },
    {
      "cell_type": "code",
      "source": [
        "np.random.randn(3,2)\n"
      ],
      "metadata": {
        "colab": {
          "base_uri": "https://localhost:8080/"
        },
        "id": "8kIR6fij1npr",
        "outputId": "29645693-a2f4-4102-8f7f-6ce26b9a9d88"
      },
      "execution_count": null,
      "outputs": [
        {
          "output_type": "execute_result",
          "data": {
            "text/plain": [
              "array([[ 0.23419883,  0.89287943],\n",
              "       [-0.96774839,  0.08259282],\n",
              "       [ 1.08733716, -0.19936312]])"
            ]
          },
          "metadata": {},
          "execution_count": 28
        }
      ]
    },
    {
      "cell_type": "code",
      "source": [
        "np.random.randint(1,100)\n",
        "\n"
      ],
      "metadata": {
        "colab": {
          "base_uri": "https://localhost:8080/"
        },
        "id": "3wCLR4951pQz",
        "outputId": "a294c38e-54df-44e3-d4be-c4a4788487b2"
      },
      "execution_count": null,
      "outputs": [
        {
          "output_type": "error",
          "ename": "NameError",
          "evalue": "ignored",
          "traceback": [
            "\u001b[0;31m---------------------------------------------------------------------------\u001b[0m",
            "\u001b[0;31mNameError\u001b[0m                                 Traceback (most recent call last)",
            "\u001b[0;32m<ipython-input-1-86579944e177>\u001b[0m in \u001b[0;36m<cell line: 1>\u001b[0;34m()\u001b[0m\n\u001b[0;32m----> 1\u001b[0;31m \u001b[0mnp\u001b[0m\u001b[0;34m.\u001b[0m\u001b[0mrandom\u001b[0m\u001b[0;34m.\u001b[0m\u001b[0mrandint\u001b[0m\u001b[0;34m(\u001b[0m\u001b[0;36m1\u001b[0m\u001b[0;34m,\u001b[0m\u001b[0;36m100\u001b[0m\u001b[0;34m)\u001b[0m\u001b[0;34m\u001b[0m\u001b[0;34m\u001b[0m\u001b[0m\n\u001b[0m\u001b[1;32m      2\u001b[0m \u001b[0;34m\u001b[0m\u001b[0m\n",
            "\u001b[0;31mNameError\u001b[0m: name 'np' is not defined"
          ]
        }
      ]
    },
    {
      "cell_type": "code",
      "source": [
        "np.random.randint(1,100,99)"
      ],
      "metadata": {
        "colab": {
          "base_uri": "https://localhost:8080/"
        },
        "id": "vEquE66F1rHM",
        "outputId": "037786bc-8459-4c51-e409-b3c7757782c2"
      },
      "execution_count": null,
      "outputs": [
        {
          "output_type": "execute_result",
          "data": {
            "text/plain": [
              "array([84, 57, 74, 96, 23, 80, 17, 38, 30, 80, 88, 11, 64, 71, 65, 83, 63,\n",
              "       40, 43,  7, 33, 47, 93, 54, 48, 75, 57, 48, 14, 41, 85,  4, 37,  3,\n",
              "       51, 32, 58, 39,  3, 89, 57, 28, 66, 30, 15, 82, 97, 82, 71, 70, 61,\n",
              "       91, 34, 78, 44, 44, 50, 69, 92, 44, 22, 83, 74,  5, 36, 67, 69, 79,\n",
              "       74, 32, 78, 40, 33, 98, 12, 96, 66, 70, 92, 45, 65, 38,  6, 16, 14,\n",
              "       87, 36, 54, 85, 26, 23, 77, 78, 76, 68, 37, 74, 72, 30])"
            ]
          },
          "metadata": {},
          "execution_count": 45
        }
      ]
    },
    {
      "cell_type": "code",
      "source": [
        "arr_n=(np.random.randint(1,100,98))\n",
        "print(arr_n)"
      ],
      "metadata": {
        "id": "nUVJTMV729fs"
      },
      "execution_count": null,
      "outputs": []
    },
    {
      "cell_type": "code",
      "source": [
        "\n",
        "arr_n = np.random.randint(1,100,98)\n",
        "\n",
        "print(arr_n)\n",
        "arr_n.shape\n",
        "arr_n.reshape(1,98)"
      ],
      "metadata": {
        "colab": {
          "base_uri": "https://localhost:8080/"
        },
        "id": "h4ttwKYy4ubM",
        "outputId": "ac85870d-6fde-47aa-82c1-48feba4ddd44"
      },
      "execution_count": null,
      "outputs": [
        {
          "output_type": "stream",
          "name": "stdout",
          "text": [
            "[72 42 15 36 48 69 36 62 30 60 90 71 55 65  1 72 80 83 63 15 17 11 98 64\n",
            " 33 32 58 47 53 60 64 80 13  4 75 85 75 52 39 82 13 44 49 30 17 21 72 99\n",
            " 64 65 74 21 90 48 71 70  7  2 68 18 41 65 18 33 88  6 58 79 78 96 84 36\n",
            " 13 61 42 96 12 34 31 67 17 39 68 60 92 11 97 28 55 41 38 66 20 12 55 72\n",
            "  6 19]\n"
          ]
        },
        {
          "output_type": "execute_result",
          "data": {
            "text/plain": [
              "array([[72, 42, 15, 36, 48, 69, 36, 62, 30, 60, 90, 71, 55, 65,  1, 72,\n",
              "        80, 83, 63, 15, 17, 11, 98, 64, 33, 32, 58, 47, 53, 60, 64, 80,\n",
              "        13,  4, 75, 85, 75, 52, 39, 82, 13, 44, 49, 30, 17, 21, 72, 99,\n",
              "        64, 65, 74, 21, 90, 48, 71, 70,  7,  2, 68, 18, 41, 65, 18, 33,\n",
              "        88,  6, 58, 79, 78, 96, 84, 36, 13, 61, 42, 96, 12, 34, 31, 67,\n",
              "        17, 39, 68, 60, 92, 11, 97, 28, 55, 41, 38, 66, 20, 12, 55, 72,\n",
              "         6, 19]])"
            ]
          },
          "metadata": {},
          "execution_count": 14
        }
      ]
    },
    {
      "cell_type": "code",
      "source": [
        "arr_1=[1,2,3,5,6,9,8]\n",
        "arr_1[0:4]\n"
      ],
      "metadata": {
        "colab": {
          "base_uri": "https://localhost:8080/"
        },
        "id": "9oHk-HwO6lhs",
        "outputId": "71d6dc73-425d-4e28-b418-f9516f519e62"
      },
      "execution_count": null,
      "outputs": [
        {
          "output_type": "execute_result",
          "data": {
            "text/plain": [
              "[1, 2, 3, 5]"
            ]
          },
          "metadata": {},
          "execution_count": 22
        }
      ]
    },
    {
      "cell_type": "code",
      "execution_count": null,
      "metadata": {
        "colab": {
          "base_uri": "https://localhost:8080/"
        },
        "id": "QXghoxGv2peI",
        "outputId": "fe0ad368-8c02-4901-c905-09de6e9eca15"
      },
      "outputs": [
        {
          "output_type": "stream",
          "name": "stdout",
          "text": [
            "[2, 2, 2, 2, 4, 5, 6, 8, 9]\n",
            "[2, 2, 2, 2, 4, 5, 6, 8, 9]\n",
            "[9, 8, 6, 5, 4, 2, 2, 2, 2]\n",
            "[2, 2, 2, 2, 4, 5, 6, 8, 9]\n",
            "['aditya', 'aniket', 'omkar', 'prachi', 'roshan']\n",
            "['roshan', 'prachi', 'omkar', 'aniket', 'aditya']\n",
            "['aditya', 'aniket', 'omkar', 'prachi', 'roshan']\n",
            "['a', 'b', 'c', 'd', 'e', 'f', 'g']\n",
            "['g', 'f', 'e', 'd', 'c', 'b', 'a']\n",
            "['a', 'b', 'c', 'd', 'e', 'f', 'g']\n",
            "['Aniket', 'Omkar', 'Roshan']\n",
            "['Roshan', 'Omkar', 'Aniket']\n",
            "['Aniket', 'Omkar', 'Roshan']\n",
            "['Roshan', 'Omkar', 'Sagar']\n",
            "['Omkar', 'Roshan', 'Sagar']\n"
          ]
        }
      ],
      "source": [
        "#Python sorted()function syntax\n",
        "alist=[2,6,5,9,2,4,2,8,2]\n",
        "print(sorted(alist))\n",
        "\n",
        "alist=[2,6,5,9,2,4,2,8,2]\n",
        "print(sorted(alist))\n",
        "print(sorted(alist,reverse=True))\n",
        "print(sorted(alist,reverse=False))\n",
        "\n",
        "Mylist=[\"roshan\",\"omkar\",\"aniket\",\"aditya\",\"prachi\"]\n",
        "print(sorted(Mylist))\n",
        "print(sorted(Mylist,reverse=True))\n",
        "print(sorted(Mylist,reverse=False))\n",
        "\n",
        "a=(\"abcdefg\")\n",
        "print(sorted(a))\n",
        "print(sorted(a,reverse=True))\n",
        "print(sorted(a,reverse=False))\n",
        "\n",
        "a={\"Roshan\":\"64\",\"Aniket\":\"45\",\"Omkar\":\"65\"}\n",
        "print(sorted(a))\n",
        "print(sorted(a,reverse=True))\n",
        "print(sorted(a,reverse=False))\n",
        "\n",
        "Num=['Roshan','Omkar','Sagar']\n",
        "print(sorted(Num,key=len,reverse=True))\n",
        "print(sorted(Num,reverse=False))\n",
        "\n",
        "\n"
      ]
    },
    {
      "cell_type": "code",
      "source": [
        "def fun(n):\n",
        "  return n%7\n",
        "\n",
        "\n",
        "List2=(1,2,3,4,5,6,7,8,9,5,2,8,)\n",
        "print(sorted(List2,key=fun))\n"
      ],
      "metadata": {
        "id": "NOB-ZSBM7NzH",
        "colab": {
          "base_uri": "https://localhost:8080/"
        },
        "outputId": "bfb4aba3-774f-4098-f5be-3a81eee01786"
      },
      "execution_count": null,
      "outputs": [
        {
          "output_type": "stream",
          "name": "stdout",
          "text": [
            "[7, 1, 8, 8, 2, 9, 2, 3, 4, 5, 5, 6]\n"
          ]
        }
      ]
    },
    {
      "cell_type": "code",
      "source": [
        "#debhug the code\n",
        "#here,one list is created as {my_tuples}to store the data\n",
        "my_tuples=[(1,\"one\"),(3,\"three\"),(2,\"two\"),(4,\"four\")]\n",
        "#Here,tuple function is used as it help us to multiple data in single variable\n",
        "#sorted function is used to sorted the given list as per the order\n",
        "#lambda function can take any number but gives only one expression as output\n",
        "sorted_tuples=sorted(my_tuples,key=lambda x:x[1])\n",
        "print(sorted_tuples)\n"
      ],
      "metadata": {
        "colab": {
          "base_uri": "https://localhost:8080/"
        },
        "id": "FxLas0R0Hyfx",
        "outputId": "3ba47845-ab44-4fca-b1bb-5db5aada4445"
      },
      "execution_count": null,
      "outputs": [
        {
          "output_type": "stream",
          "name": "stdout",
          "text": [
            "[(4, 'four'), (1, 'one'), (3, 'three'), (2, 'two')]\n"
          ]
        }
      ]
    },
    {
      "cell_type": "code",
      "source": [
        "product_details=[]\n",
        "#Empty list is created\n",
        "Supplier_Details=dict()\n",
        "#Empty dist is created\n",
        "Customer_Details=[]\n",
        "#empty list is created\n",
        "gender={}\n",
        "#empty set is created\n",
        "fp1=open(\"/content/sample_data/Sales.csv\",\"r\")\n",
        "#This function is used to open the file and here r mode is used to read the file\n",
        "data=fp1.readline()\n",
        "#Each row in file is read\n",
        "while(True):\n",
        "#here while loop is used\n",
        "      data=fp1.readline()\n",
        "      if not data:\n",
        "        break;\n",
        "      data=data.replace(\"\\n\",\" \")\n",
        "      temp=data.split(\",\")\n",
        "#split function is used to to split the table from the file\n",
        "#append function is used the join excle to the list element\n",
        "      product_details.append(temp[1])\n",
        "      Customer_Details.append(temp[3])\n",
        "      Supplier_Details.update({temp[0]:temp[2]})\n",
        "      gender.update({temp[3]:temp[4]})\n",
        "fp1.close()\n",
        "#here we are going to printing above the details\n",
        "print(\" product_details\\n\",product_details,end=\"\")\n",
        "print(\" Customer_Details\\n\",Customer_Details,end=\"\")\n",
        "print(\" Supplier_Details\\n\",Supplier_Details,end=\"\")\n",
        "print(\" gender\\n\",gender,end=\"\")\n",
        "\n",
        "\n",
        "\n",
        "\n"
      ],
      "metadata": {
        "colab": {
          "base_uri": "https://localhost:8080/"
        },
        "id": "k6-YBr_7IioA",
        "outputId": "0cde5d24-7be4-46c6-d26a-d5b2e81d66f8"
      },
      "execution_count": null,
      "outputs": [
        {
          "output_type": "stream",
          "name": "stdout",
          "text": [
            " product_details\n",
            " ['Lenovo Laptop', 'Samsung M31', 'Realmi 10pro', 'Oppo F21', 'Lenovo Laptop', 'Samsung M31', '\"LG TV 32\"\"\"', 'Oppo F21', 'Lenovo Laptop', 'Samsung M31', '\"LG TV 32\"\"\"', 'Lenovo Laptop', 'Samsung M31', 'Realmi 10pro', 'Lenovo Laptop', 'Oppo F21', '\"LG TV 32\"\"\"', 'Lenovo Laptop', 'Samsung M31', '\"LG TV 32\"\"\"'] Customer_Details\n",
            " ['Kaustubh Mahajan', 'Siddhi Kiwale', 'Sanket Kandalkar', 'Yash Mali', 'Yash Bagul', 'Siddhi Kiwale', 'Sanket Kandalkar', 'Kaustubh Mahajan', 'Yash Mali', 'Siddhi Kiwale', 'Sanket Kandalkar', 'Kaustubh Mahajan', 'Yash Mali', 'Siddhi Kiwale', 'Tanuja Mali', 'Kaustubh Mahajan', 'Sanket Kandalkar', 'Siddhi Kiwale', 'Kaustubh Mahajan', 'Yash Mali'] Supplier_Details\n",
            " {'P00001': 'Raka Ele.', 'P00002': 'Vijay Sales', 'P00003': 'Gada Ele.', 'P00004': 'Surya Ele.', 'P00005': 'Raka Ele.', 'P00006': 'Gada Ele.', 'P00007': 'Vijay Sales', 'P00008': 'Surya Ele.', 'P00009': 'Raka Ele.', 'P00010': 'Gada Ele.', 'P00011': 'Surya Ele.', 'P00012': 'Raka Ele.', 'P00013': 'Surya Ele.', 'P00014': 'Raka Ele.', 'P00015': 'Gada Ele.', 'P00016': 'Vijay Sales', 'P00017': 'Deshmukh sales', 'P00018': 'Raka Ele.', 'P00019': 'Deshmukh sales', 'P00020': 'Gada Ele.'} gender\n",
            " {'Kaustubh Mahajan': 'Male ', 'Siddhi Kiwale': 'Female ', 'Sanket Kandalkar': 'Male ', 'Yash Mali': 'Male ', 'Yash Bagul': 'Male ', 'Tanuja Mali': 'Female '}"
          ]
        }
      ]
    },
    {
      "cell_type": "code",
      "source": [],
      "metadata": {
        "id": "iLVhg7662csl"
      },
      "execution_count": null,
      "outputs": []
    },
    {
      "cell_type": "code",
      "execution_count": null,
      "metadata": {
        "colab": {
          "base_uri": "https://localhost:8080/",
          "height": 235
        },
        "id": "NhyO34lV4cAJ",
        "outputId": "5ad667c3-a543-4efe-b840-dc2bc039d644"
      },
      "outputs": [
        {
          "output_type": "error",
          "ename": "TypeError",
          "evalue": "ignored",
          "traceback": [
            "\u001b[0;31m---------------------------------------------------------------------------\u001b[0m",
            "\u001b[0;31mTypeError\u001b[0m                                 Traceback (most recent call last)",
            "\u001b[0;32m<ipython-input-23-8970a57c978a>\u001b[0m in \u001b[0;36m<cell line: 3>\u001b[0;34m()\u001b[0m\n\u001b[1;32m      1\u001b[0m \u001b[0;31m#write a program to display only those number from alist that satistfy the following code\u001b[0m\u001b[0;34m\u001b[0m\u001b[0;34m\u001b[0m\u001b[0m\n\u001b[1;32m      2\u001b[0m \u001b[0mnumber\u001b[0m\u001b[0;34m=\u001b[0m\u001b[0;34m[\u001b[0m\u001b[0;36m12\u001b[0m\u001b[0;34m,\u001b[0m\u001b[0;36m54\u001b[0m\u001b[0;34m,\u001b[0m\u001b[0;36m75\u001b[0m\u001b[0;34m,\u001b[0m\u001b[0;36m150\u001b[0m\u001b[0;34m,\u001b[0m\u001b[0;36m186\u001b[0m\u001b[0;34m,\u001b[0m\u001b[0;36m185\u001b[0m\u001b[0;34m,\u001b[0m\u001b[0;36m527\u001b[0m\u001b[0;34m,\u001b[0m\u001b[0;36m52\u001b[0m\u001b[0;34m]\u001b[0m\u001b[0;34m\u001b[0m\u001b[0;34m\u001b[0m\u001b[0m\n\u001b[0;32m----> 3\u001b[0;31m \u001b[0;32mif\u001b[0m \u001b[0mnumber\u001b[0m\u001b[0;34m>\u001b[0m\u001b[0;36m150\u001b[0m\u001b[0;34m:\u001b[0m\u001b[0;34m\u001b[0m\u001b[0;34m\u001b[0m\u001b[0m\n\u001b[0m\u001b[1;32m      4\u001b[0m    \u001b[0mprint\u001b[0m\u001b[0;34m(\u001b[0m\u001b[0;34m\"valid\"\u001b[0m\u001b[0;34m)\u001b[0m\u001b[0;34m\u001b[0m\u001b[0;34m\u001b[0m\u001b[0m\n\u001b[1;32m      5\u001b[0m \u001b[0;32melif\u001b[0m \u001b[0mnumber\u001b[0m\u001b[0;34m<\u001b[0m\u001b[0;36m500\u001b[0m\u001b[0;34m:\u001b[0m\u001b[0;34m\u001b[0m\u001b[0;34m\u001b[0m\u001b[0m\n",
            "\u001b[0;31mTypeError\u001b[0m: '>' not supported between instances of 'list' and 'int'"
          ]
        }
      ],
      "source": [
        "#write a program to display only those number from alist that satistfy the following code\n",
        "#125,128\n",
        "#for is use to carry out certain range\n",
        "number=[12,54,75,150,186,185,527,52]\n",
        "if number>150:\n",
        "   print(\"valid\")\n",
        "elif number<500:\n",
        "   print(\"INVALID\")"
      ]
    },
    {
      "cell_type": "code",
      "source": [
        "number=[12,14,35,80,10,150,180,550,557]\n",
        "for item in number:\n",
        "     if item>150:\n",
        "       break\n",
        "     elif item>500:\n",
        "       continue\n",
        "     elif item%5==0:\n",
        "       print(\"item\")\n"
      ],
      "metadata": {
        "colab": {
          "base_uri": "https://localhost:8080/"
        },
        "id": "fJD3AVvQDnGe",
        "outputId": "d0c79de7-371b-41c6-b813-afc03dd65506"
      },
      "execution_count": null,
      "outputs": [
        {
          "output_type": "stream",
          "name": "stdout",
          "text": [
            "item\n",
            "item\n",
            "item\n",
            "item\n"
          ]
        }
      ]
    },
    {
      "cell_type": "code",
      "source": [
        "#while loop\n",
        "#while loop is used and repeate its condtion until its satisfies\n",
        "#syntax of while loop= while expression:\n",
        "#                        statement(s)\n",
        "#write a program \"i am taking data science.I will and i can\"\n",
        "\n",
        "output=0\n",
        "while(output<10):\n",
        "    output=output+1\n",
        "    print(\"I am taking data science,I will and U can\")\n",
        "\n",
        "\n"
      ],
      "metadata": {
        "colab": {
          "base_uri": "https://localhost:8080/"
        },
        "id": "wqHVYb9rArjB",
        "outputId": "9b98e97d-17f1-4553-f038-7964076ad633"
      },
      "execution_count": null,
      "outputs": [
        {
          "output_type": "stream",
          "name": "stdout",
          "text": [
            "I am taking data science,I will and U can\n",
            "I am taking data science,I will and U can\n",
            "I am taking data science,I will and U can\n",
            "I am taking data science,I will and U can\n",
            "I am taking data science,I will and U can\n",
            "I am taking data science,I will and U can\n",
            "I am taking data science,I will and U can\n",
            "I am taking data science,I will and U can\n",
            "I am taking data science,I will and U can\n",
            "I am taking data science,I will and U can\n"
          ]
        }
      ]
    },
    {
      "cell_type": "code",
      "source": [
        "#while statement with else execution\n",
        "#else is used to break the statisfed condtion and print the next output\n",
        "output=0\n",
        "while(output<3):\n",
        "    output=output+1\n",
        "    print(\"I am completing gradution\")\n",
        "else:\n",
        "    print(\"I am a graduate\")"
      ],
      "metadata": {
        "colab": {
          "base_uri": "https://localhost:8080/"
        },
        "id": "7i-ilqnmDkdY",
        "outputId": "08cbfe28-0661-421f-d3c9-14fc4ca9d635"
      },
      "execution_count": null,
      "outputs": [
        {
          "output_type": "stream",
          "name": "stdout",
          "text": [
            "I am completing graduting\n",
            "I am completing graduting\n",
            "I am completing graduting\n",
            "I am a gradutate\n"
          ]
        }
      ]
    },
    {
      "cell_type": "code",
      "source": [
        "output=0\n",
        "while(output<5):\n",
        "    output=output+1\n",
        "    print(\"I am in sy\")\n",
        "else:\n",
        "    print(\"I am enter in  ty\")"
      ],
      "metadata": {
        "colab": {
          "base_uri": "https://localhost:8080/"
        },
        "id": "3iy3OSRPEUtO",
        "outputId": "4bc97a15-9db8-4338-9b6e-0a484bc2e040"
      },
      "execution_count": null,
      "outputs": [
        {
          "output_type": "stream",
          "name": "stdout",
          "text": [
            "I am in sy\n",
            "I am in sy\n",
            "I am in sy\n",
            "I am in sy\n",
            "I am in sy\n",
            "I am enter in  ty\n"
          ]
        }
      ]
    },
    {
      "cell_type": "code",
      "source": [
        "#list\n",
        "#list syntax[]\n",
        "#empty list\n",
        "list=[]\n",
        "print(list)"
      ],
      "metadata": {
        "colab": {
          "base_uri": "https://localhost:8080/"
        },
        "id": "aZmd4PSPH3E5",
        "outputId": "5bc48dc1-a8c3-40fa-feaf-0b7dc4487d90"
      },
      "execution_count": null,
      "outputs": [
        {
          "output_type": "stream",
          "name": "stdout",
          "text": [
            "[]\n"
          ]
        }
      ]
    },
    {
      "cell_type": "code",
      "source": [
        "#create a list of letters\n",
        "list=[\"Iamstudentofmitaoe\"]\n",
        "print(list)"
      ],
      "metadata": {
        "colab": {
          "base_uri": "https://localhost:8080/"
        },
        "id": "tGOacQ0gIm33",
        "outputId": "9578c736-2de0-4954-c387-0c334e239d54"
      },
      "execution_count": null,
      "outputs": [
        {
          "output_type": "stream",
          "name": "stdout",
          "text": [
            "['I_am student of mitaoe']\n"
          ]
        }
      ]
    },
    {
      "cell_type": "code",
      "source": [
        "#to create a list with multiple values\n",
        "#multiple values are pratham, vaishnav,om\n",
        "#BY DEFAL;UT IT IS COMING WITH THE colan\n",
        "list=[\"om\",\"vaishnav\",\"pratham\"]\n",
        "print(list)"
      ],
      "metadata": {
        "colab": {
          "base_uri": "https://localhost:8080/"
        },
        "id": "qXAY53OaIX0r",
        "outputId": "b563d076-458c-43af-edc6-5650c8bca70b"
      },
      "execution_count": null,
      "outputs": [
        {
          "output_type": "stream",
          "name": "stdout",
          "text": [
            "['om', 'vaishnav', 'pratham']\n"
          ]
        }
      ]
    },
    {
      "cell_type": "code",
      "source": [
        "# multidimensional\n",
        "list=[[\"list of one dimensional\"],[\"list of another dimensional\"]]\n",
        "print(list)"
      ],
      "metadata": {
        "colab": {
          "base_uri": "https://localhost:8080/"
        },
        "id": "ZqRx8tVWLFym",
        "outputId": "d668f4f6-fa80-48db-f1d7-c581efd79dc4"
      },
      "execution_count": null,
      "outputs": [
        {
          "output_type": "stream",
          "name": "stdout",
          "text": [
            "[['list of one dimensional'], ['list of another dimensional']]\n"
          ]
        }
      ]
    },
    {
      "cell_type": "code",
      "source": [
        "#to find the index number\n",
        "list=[[\"roshan\"\"aniket\"],[\"suyash\"\"aditya\"],[\"omkar\"]]\n",
        "print(list[0])\n",
        "print(list[1])"
      ],
      "metadata": {
        "colab": {
          "base_uri": "https://localhost:8080/"
        },
        "id": "ixpCuOpCLsE7",
        "outputId": "6bd7186e-fc9f-4f0f-96dc-ec9a4faea4d8"
      },
      "execution_count": null,
      "outputs": [
        {
          "output_type": "stream",
          "name": "stdout",
          "text": [
            "['roshananiket']\n",
            "['suyashaditya']\n"
          ]
        }
      ]
    },
    {
      "cell_type": "code",
      "source": [
        "list=[[\"roshan\"\"aniket\"],[\"suyash\"\"aditya\"],[\"omkar\"]]\n",
        "print(list[2]m[1])\n",
        "print(list[1][2])"
      ],
      "metadata": {
        "colab": {
          "base_uri": "https://localhost:8080/",
          "height": 133
        },
        "id": "WLXmugQqKntY",
        "outputId": "03ce742f-ae5f-4755-c058-fb4017407bfb"
      },
      "execution_count": 1,
      "outputs": [
        {
          "output_type": "error",
          "ename": "SyntaxError",
          "evalue": "ignored",
          "traceback": [
            "\u001b[0;36m  File \u001b[0;32m\"<ipython-input-1-e760647adae9>\"\u001b[0;36m, line \u001b[0;32m2\u001b[0m\n\u001b[0;31m    print(list[2]m[1])\u001b[0m\n\u001b[0m          ^\u001b[0m\n\u001b[0;31mSyntaxError\u001b[0m\u001b[0;31m:\u001b[0m invalid syntax. Perhaps you forgot a comma?\n"
          ]
        }
      ]
    },
    {
      "cell_type": "code",
      "source": [
        "#problem statement\n",
        "#Find out the employee who draws the maximum salary\n",
        "import csv\n",
        "with open('employeerecord.csv', mode='r')as file:\n",
        "   csvfile=csv.reader(file)\n",
        "\n"
      ],
      "metadata": {
        "id": "zy21zuQzCAla"
      },
      "execution_count": null,
      "outputs": []
    },
    {
      "cell_type": "code",
      "source": [
        "li=[1,2,3,4,5,6]\n",
        "for i in range(7):\n",
        "    print(li[i])"
      ],
      "metadata": {
        "colab": {
          "base_uri": "https://localhost:8080/",
          "height": 200
        },
        "id": "6mf86JoBV2Jh",
        "outputId": "7306a420-eae9-433c-bb90-733a9e554221"
      },
      "execution_count": null,
      "outputs": [
        {
          "output_type": "error",
          "ename": "TypeError",
          "evalue": "ignored",
          "traceback": [
            "\u001b[0;31m---------------------------------------------------------------------------\u001b[0m",
            "\u001b[0;31mTypeError\u001b[0m                                 Traceback (most recent call last)",
            "\u001b[0;32m<ipython-input-74-964eb5eac5f0>\u001b[0m in \u001b[0;36m<cell line: 2>\u001b[0;34m()\u001b[0m\n\u001b[1;32m      1\u001b[0m \u001b[0mli\u001b[0m\u001b[0;34m=\u001b[0m\u001b[0;34m[\u001b[0m\u001b[0;36m1\u001b[0m\u001b[0;34m,\u001b[0m\u001b[0;36m2\u001b[0m\u001b[0;34m,\u001b[0m\u001b[0;36m3\u001b[0m\u001b[0;34m,\u001b[0m\u001b[0;36m4\u001b[0m\u001b[0;34m,\u001b[0m\u001b[0;36m5\u001b[0m\u001b[0;34m,\u001b[0m\u001b[0;36m6\u001b[0m\u001b[0;34m]\u001b[0m\u001b[0;34m\u001b[0m\u001b[0;34m\u001b[0m\u001b[0m\n\u001b[1;32m      2\u001b[0m \u001b[0;32mfor\u001b[0m \u001b[0mi\u001b[0m \u001b[0;32min\u001b[0m \u001b[0mrange\u001b[0m\u001b[0;34m(\u001b[0m\u001b[0;36m7\u001b[0m\u001b[0;34m)\u001b[0m\u001b[0;34m:\u001b[0m\u001b[0;34m\u001b[0m\u001b[0;34m\u001b[0m\u001b[0m\n\u001b[0;32m----> 3\u001b[0;31m     \u001b[0mprint\u001b[0m\u001b[0;34m(\u001b[0m\u001b[0mli\u001b[0m\u001b[0;34m[\u001b[0m\u001b[0mi\u001b[0m\u001b[0;34m]\u001b[0m\u001b[0;34m)\u001b[0m\u001b[0;34m\u001b[0m\u001b[0;34m\u001b[0m\u001b[0m\n\u001b[0m",
            "\u001b[0;31mTypeError\u001b[0m: 'list' object is not callable"
          ]
        }
      ]
    },
    {
      "cell_type": "code",
      "source": [
        "f=open(\"Employeerecord.csv\", mode='r')\n",
        "content=f.read()\n",
        "lines=content.split(\"\\n\")\n",
        "print=(lines)\n",
        "eid=[]; nm=[]; desgn=[]; sal=[];\n",
        "for l in lines:\n",
        "    words =l.split(\",\")\n",
        "    eid.append(int(words[0]))\n",
        "    nm.append((words[1]))\n",
        "    desgn.append(words[2])\n",
        "    sal.append(int(words[3]))\n",
        "    print(\"Employee IDs:\",eid)\n",
        "    print(\"Employee Name:\",nm)\n",
        "    print(\"Employee Desegnation:\",desgn)\n",
        "    print(\"Employee salary:\",sal)\n",
        "    print('maximum',max(sal))\n",
        "    print('minimum',min(sal))\n",
        "    print((sal))\n",
        "\n",
        "\n",
        "\n"
      ],
      "metadata": {
        "id": "qjbNAPiEKlpi"
      },
      "execution_count": null,
      "outputs": []
    },
    {
      "cell_type": "code",
      "execution_count": null,
      "metadata": {
        "colab": {
          "base_uri": "https://localhost:8080/"
        },
        "id": "lVbIp7BcuaYo",
        "outputId": "68da0f87-1039-43ee-ba6c-6744b8c1477b"
      },
      "outputs": [
        {
          "name": "stdout",
          "output_type": "stream",
          "text": [
            "8000\n"
          ]
        }
      ],
      "source": [
        "#maximum and minimum  problems\n",
        "#max function in python\n",
        "x=('1400')\n",
        "y=('8000')\n",
        "z=('100')\n",
        "print(max(x,y,z))\n"
      ]
    },
    {
      "cell_type": "code",
      "execution_count": null,
      "metadata": {
        "colab": {
          "base_uri": "https://localhost:8080/"
        },
        "id": "4we5pLOu0zqB",
        "outputId": "40a6e207-a769-46ba-a202-d685a9e3a90a"
      },
      "outputs": [
        {
          "name": "stdout",
          "output_type": "stream",
          "text": [
            "3100\n"
          ]
        }
      ],
      "source": [
        "#create a list a number use the sum function to calculate sum or total\n",
        "x=('1400')\n",
        "y=('8000')\n",
        "z=('100')\n",
        "print(max(x,y,z))\n"
      ]
    },
    {
      "cell_type": "code",
      "execution_count": null,
      "metadata": {
        "colab": {
          "base_uri": "https://localhost:8080/"
        },
        "id": "6ofMpQym1eSZ",
        "outputId": "6c023fe1-5302-4eea-da61-93240b145bba"
      },
      "outputs": [
        {
          "name": "stdout",
          "output_type": "stream",
          "text": [
            "100\n"
          ]
        }
      ],
      "source": [
        "#minimun function\n",
        "x=('1400')\n",
        "y=('8000')\n",
        "z=('100')\n",
        "print(min(x,y,z))"
      ]
    },
    {
      "cell_type": "code",
      "execution_count": null,
      "metadata": {
        "colab": {
          "base_uri": "https://localhost:8080/"
        },
        "id": "xfFf13hq1y4Y",
        "outputId": "ac8eea03-2b23-465f-ae16-78ff7be22786"
      },
      "outputs": [
        {
          "name": "stdout",
          "output_type": "stream",
          "text": [
            "4\n"
          ]
        }
      ],
      "source": [
        "#Length of the function\n",
        "num=[1500,1600,700,900]\n",
        "print(len(num))"
      ]
    },
    {
      "cell_type": "code",
      "execution_count": null,
      "metadata": {
        "id": "kFu2po6J9ESD"
      },
      "outputs": [],
      "source": [
        "#csv file handling\n",
        "#comma seperated value file\n",
        "#key words are always in  purple\n",
        "#csv file is used to handle the file and import the data\n"
      ]
    },
    {
      "cell_type": "code",
      "source": [
        "import csv\n",
        "with open('companydata..csv', mode='r')as file:\n",
        "    csvfile=csv.reader(file)\n",
        "    for line in csvfile:\n",
        "        print(line)\n"
      ],
      "metadata": {
        "colab": {
          "base_uri": "https://localhost:8080/"
        },
        "id": "Ys7rxNd29hKa",
        "outputId": "36c44d43-ff79-416b-b2d9-1aeb84a7366e"
      },
      "execution_count": null,
      "outputs": [
        {
          "output_type": "stream",
          "name": "stdout",
          "text": [
            "['ORGANIZATION', 'CEO', 'ESTABLISHED']\n",
            "['APPLE', 'TIM COOK', '1976']\n",
            "['GOOGLE', 'SUNDAR PICHAI', '1998']\n",
            "['MICROSOFT', 'Satya Nadella', '1975']\n",
            "['AMAZON', 'ANDY JASSY', '1994']\n"
          ]
        }
      ]
    },
    {
      "cell_type": "code",
      "source": [
        "import csv\n",
        "with open('companydata..csv', mode='r')as file:\n",
        "    csvfile = Dict.Reader(file)\n",
        "    for line in csvfile:\n",
        "        print(line)\n"
      ],
      "metadata": {
        "id": "lQ1WA-IsMNGo"
      },
      "execution_count": null,
      "outputs": []
    },
    {
      "cell_type": "code",
      "source": [
        "#writing to csv file\n",
        "import csv\n",
        "fields =['name','branch','year','cgpa']\n",
        "row = [ ['roshan','mechanical','2nd','9.1'],\n",
        "        ['aniket','Electronics','1st','9.3'],]\n",
        "filename = \"school_records.csv\"\n",
        "with open(filename,'w') as csvfile:\n",
        "    #writer=csv.DictWriter(csvfile,fieldnames=fields)\n",
        "    csvwriter = csv.writer(csvfile)\n",
        "    csvwriter.writerow(fields)\n",
        "    csvwriter.writerow(row)\n"
      ],
      "metadata": {
        "id": "_NpkAn-uMY3H"
      },
      "execution_count": null,
      "outputs": []
    }
  ]
}